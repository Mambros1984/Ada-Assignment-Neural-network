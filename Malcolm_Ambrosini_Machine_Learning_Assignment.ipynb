{
  "nbformat": 4,
  "nbformat_minor": 0,
  "metadata": {
    "colab": {
      "name": "Pima-Prediction.ipynb",
      "version": "0.3.2",
      "provenance": []
    },
    "kernelspec": {
      "display_name": "Python 3",
      "language": "python",
      "name": "python3"
    }
  },
  "cells": [
    {
      "metadata": {
        "id": "8Kjc2MnP0IJM",
        "colab_type": "text"
      },
      "cell_type": "markdown",
      "source": [
        "# Pima Indian Diabetes Prediction"
      ]
    },
    {
      "metadata": {
        "id": "kX4JYtl8UsxB",
        "colab_type": "text"
      },
      "cell_type": "markdown",
      "source": [
        "This dataset is originally from the National Institute of Diabetes and Digestive and Kidney Diseases. The objective of the dataset is to diagnostically predict whether or not a patient has diabetes, based on certain diagnostic measurements included in the dataset. Several constraints were placed on the selection of these instances from a larger database. In particular, all patients here are females at least 21 years old of Pima Indian heritage.\n",
        "\n",
        "The datasets consists of several medical predictor variables and one target variable, Outcome. Predictor variables includes the number of pregnancies the patient has had, their BMI, insulin level, age, and so on.\n",
        "\n",
        "The task is to build a model that could predict with a reasonable accuracy if a person is more likely to develop diabetes or not using the Pima Indian Diabetes data.\n",
        "\n",
        "This is a kind of Binary problem as the answer could be ***diabetes = true*** or ***diabetes =false***. Such problem can be faced with classification algorithms and considered that the task is a prediction it can be identified as a supervised machine learning task.\n",
        "\n",
        "Given the amount of variables that could affect the life of a human being, setting the target accuracy to 70% might be a reasonable goal. This will be the bottom of the acceptable range."
      ]
    },
    {
      "metadata": {
        "id": "c2hvaca2XraG",
        "colab_type": "text"
      },
      "cell_type": "markdown",
      "source": [
        "# PREPARING THE DATA\n",
        "The process will involve the following stpes:\n",
        "\n",
        "\n",
        "1.   Get the data needed\n",
        "2.   Inspect and clean the data\n",
        "3.   Explore the data\n",
        "4.   Mold the data to tidy data\n",
        "\n",
        "\n",
        "\n"
      ]
    },
    {
      "metadata": {
        "id": "VZVSObYw0IJN",
        "colab_type": "text"
      },
      "cell_type": "markdown",
      "source": [
        "Import some basic libraries.\n",
        "* Pandas - provided data frames\n",
        "* matplotlib.pyplot - plotting support\n",
        "\n",
        "Use Magic %matplotlib to display graphics inline instead of in a popup window.\n"
      ]
    },
    {
      "metadata": {
        "id": "oWuHhOgO0IJO",
        "colab_type": "code",
        "colab": {}
      },
      "cell_type": "code",
      "source": [
        "import pandas as pd                 # pandas is a dataframe library\n",
        "import matplotlib.pyplot as plt      # matplotlib.pyplot plots data\n",
        "\n",
        "%matplotlib inline"
      ],
      "execution_count": 0,
      "outputs": []
    },
    {
      "metadata": {
        "id": "NnmMC7U80IJR",
        "colab_type": "text"
      },
      "cell_type": "markdown",
      "source": [
        "## Loading and Reviewing the Data"
      ]
    },
    {
      "metadata": {
        "id": "M-GzITcAYWyE",
        "colab_type": "text"
      },
      "cell_type": "markdown",
      "source": [
        "\n",
        "\n",
        "*   Importing the dataset from the github link\n",
        "\n"
      ]
    },
    {
      "metadata": {
        "id": "dUB23LWn0IJS",
        "colab_type": "code",
        "colab": {}
      },
      "cell_type": "code",
      "source": [
        "df = pd.read_csv(\"https://raw.githubusercontent.com/Mambros1984/Ada-Assignment-Neural-network/master/pima-data.csv\")"
      ],
      "execution_count": 0,
      "outputs": []
    },
    {
      "metadata": {
        "id": "vAXJ8iw9Yeo_",
        "colab_type": "text"
      },
      "cell_type": "markdown",
      "source": [
        "\n",
        "\n",
        "*   Checking the size of the dataset. \n",
        "The first value is the number of rows; the second is the number of columns.\n",
        "\n",
        "\n",
        "\n",
        "\n"
      ]
    },
    {
      "metadata": {
        "id": "0Urickuy0IJU",
        "colab_type": "code",
        "colab": {
          "base_uri": "https://localhost:8080/",
          "height": 34
        },
        "outputId": "409e0f79-4085-41eb-dd5f-cdee09c211a9"
      },
      "cell_type": "code",
      "source": [
        "df.shape"
      ],
      "execution_count": 121,
      "outputs": [
        {
          "output_type": "execute_result",
          "data": {
            "text/plain": [
              "(768, 10)"
            ]
          },
          "metadata": {
            "tags": []
          },
          "execution_count": 121
        }
      ]
    },
    {
      "metadata": {
        "id": "JRATrJhPYyJ9",
        "colab_type": "text"
      },
      "cell_type": "markdown",
      "source": [
        "\n",
        "\n",
        "*   Inspecting the data checking the beginning rows of the dataframe through the **head()** method and specifying the number of lines to return.\n",
        "\n",
        "N.B = notice that the first row has a 0 index and the Pandas dataframe has column names which are used to access specific rows and columns. They can be used together to access value belonging to specific rows and columns.\n"
      ]
    },
    {
      "metadata": {
        "id": "3MQ6ReV_0IJY",
        "colab_type": "code",
        "colab": {
          "base_uri": "https://localhost:8080/",
          "height": 204
        },
        "outputId": "76ec9742-67e6-4ab7-d8c5-035cfbb949df"
      },
      "cell_type": "code",
      "source": [
        "df.head(5)"
      ],
      "execution_count": 122,
      "outputs": [
        {
          "output_type": "execute_result",
          "data": {
            "text/html": [
              "<div>\n",
              "<style scoped>\n",
              "    .dataframe tbody tr th:only-of-type {\n",
              "        vertical-align: middle;\n",
              "    }\n",
              "\n",
              "    .dataframe tbody tr th {\n",
              "        vertical-align: top;\n",
              "    }\n",
              "\n",
              "    .dataframe thead th {\n",
              "        text-align: right;\n",
              "    }\n",
              "</style>\n",
              "<table border=\"1\" class=\"dataframe\">\n",
              "  <thead>\n",
              "    <tr style=\"text-align: right;\">\n",
              "      <th></th>\n",
              "      <th>num_preg</th>\n",
              "      <th>glucose_conc</th>\n",
              "      <th>diastolic_bp</th>\n",
              "      <th>thickness</th>\n",
              "      <th>insulin</th>\n",
              "      <th>bmi</th>\n",
              "      <th>diab_pred</th>\n",
              "      <th>age</th>\n",
              "      <th>skin</th>\n",
              "      <th>diabetes</th>\n",
              "    </tr>\n",
              "  </thead>\n",
              "  <tbody>\n",
              "    <tr>\n",
              "      <th>0</th>\n",
              "      <td>6</td>\n",
              "      <td>148</td>\n",
              "      <td>72</td>\n",
              "      <td>35</td>\n",
              "      <td>0</td>\n",
              "      <td>33.6</td>\n",
              "      <td>0.627</td>\n",
              "      <td>50</td>\n",
              "      <td>1.3790</td>\n",
              "      <td>True</td>\n",
              "    </tr>\n",
              "    <tr>\n",
              "      <th>1</th>\n",
              "      <td>1</td>\n",
              "      <td>85</td>\n",
              "      <td>66</td>\n",
              "      <td>29</td>\n",
              "      <td>0</td>\n",
              "      <td>26.6</td>\n",
              "      <td>0.351</td>\n",
              "      <td>31</td>\n",
              "      <td>1.1426</td>\n",
              "      <td>False</td>\n",
              "    </tr>\n",
              "    <tr>\n",
              "      <th>2</th>\n",
              "      <td>8</td>\n",
              "      <td>183</td>\n",
              "      <td>64</td>\n",
              "      <td>0</td>\n",
              "      <td>0</td>\n",
              "      <td>23.3</td>\n",
              "      <td>0.672</td>\n",
              "      <td>32</td>\n",
              "      <td>0.0000</td>\n",
              "      <td>True</td>\n",
              "    </tr>\n",
              "    <tr>\n",
              "      <th>3</th>\n",
              "      <td>1</td>\n",
              "      <td>89</td>\n",
              "      <td>66</td>\n",
              "      <td>23</td>\n",
              "      <td>94</td>\n",
              "      <td>28.1</td>\n",
              "      <td>0.167</td>\n",
              "      <td>21</td>\n",
              "      <td>0.9062</td>\n",
              "      <td>False</td>\n",
              "    </tr>\n",
              "    <tr>\n",
              "      <th>4</th>\n",
              "      <td>0</td>\n",
              "      <td>137</td>\n",
              "      <td>40</td>\n",
              "      <td>35</td>\n",
              "      <td>168</td>\n",
              "      <td>43.1</td>\n",
              "      <td>2.288</td>\n",
              "      <td>33</td>\n",
              "      <td>1.3790</td>\n",
              "      <td>True</td>\n",
              "    </tr>\n",
              "  </tbody>\n",
              "</table>\n",
              "</div>"
            ],
            "text/plain": [
              "   num_preg  glucose_conc  diastolic_bp  thickness  insulin   bmi  diab_pred  \\\n",
              "0         6           148            72         35        0  33.6      0.627   \n",
              "1         1            85            66         29        0  26.6      0.351   \n",
              "2         8           183            64          0        0  23.3      0.672   \n",
              "3         1            89            66         23       94  28.1      0.167   \n",
              "4         0           137            40         35      168  43.1      2.288   \n",
              "\n",
              "   age    skin  diabetes  \n",
              "0   50  1.3790      True  \n",
              "1   31  1.1426     False  \n",
              "2   32  0.0000      True  \n",
              "3   21  0.9062     False  \n",
              "4   33  1.3790      True  "
            ]
          },
          "metadata": {
            "tags": []
          },
          "execution_count": 122
        }
      ]
    },
    {
      "metadata": {
        "id": "Y8LA2Sv7ZHkj",
        "colab_type": "text"
      },
      "cell_type": "markdown",
      "source": [
        "\n",
        "\n",
        "*   Inspecting the data checking the ending lines of the dataframe through the **tail()** method.\n",
        "\n"
      ]
    },
    {
      "metadata": {
        "id": "PtRMxYXC0IJd",
        "colab_type": "code",
        "colab": {
          "base_uri": "https://localhost:8080/",
          "height": 204
        },
        "outputId": "8fc73d89-d13c-42ee-ded2-bb76ba4c2789"
      },
      "cell_type": "code",
      "source": [
        "df.tail(5)"
      ],
      "execution_count": 123,
      "outputs": [
        {
          "output_type": "execute_result",
          "data": {
            "text/html": [
              "<div>\n",
              "<style scoped>\n",
              "    .dataframe tbody tr th:only-of-type {\n",
              "        vertical-align: middle;\n",
              "    }\n",
              "\n",
              "    .dataframe tbody tr th {\n",
              "        vertical-align: top;\n",
              "    }\n",
              "\n",
              "    .dataframe thead th {\n",
              "        text-align: right;\n",
              "    }\n",
              "</style>\n",
              "<table border=\"1\" class=\"dataframe\">\n",
              "  <thead>\n",
              "    <tr style=\"text-align: right;\">\n",
              "      <th></th>\n",
              "      <th>num_preg</th>\n",
              "      <th>glucose_conc</th>\n",
              "      <th>diastolic_bp</th>\n",
              "      <th>thickness</th>\n",
              "      <th>insulin</th>\n",
              "      <th>bmi</th>\n",
              "      <th>diab_pred</th>\n",
              "      <th>age</th>\n",
              "      <th>skin</th>\n",
              "      <th>diabetes</th>\n",
              "    </tr>\n",
              "  </thead>\n",
              "  <tbody>\n",
              "    <tr>\n",
              "      <th>763</th>\n",
              "      <td>10</td>\n",
              "      <td>101</td>\n",
              "      <td>76</td>\n",
              "      <td>48</td>\n",
              "      <td>180</td>\n",
              "      <td>32.9</td>\n",
              "      <td>0.171</td>\n",
              "      <td>63</td>\n",
              "      <td>1.8912</td>\n",
              "      <td>False</td>\n",
              "    </tr>\n",
              "    <tr>\n",
              "      <th>764</th>\n",
              "      <td>2</td>\n",
              "      <td>122</td>\n",
              "      <td>70</td>\n",
              "      <td>27</td>\n",
              "      <td>0</td>\n",
              "      <td>36.8</td>\n",
              "      <td>0.340</td>\n",
              "      <td>27</td>\n",
              "      <td>1.0638</td>\n",
              "      <td>False</td>\n",
              "    </tr>\n",
              "    <tr>\n",
              "      <th>765</th>\n",
              "      <td>5</td>\n",
              "      <td>121</td>\n",
              "      <td>72</td>\n",
              "      <td>23</td>\n",
              "      <td>112</td>\n",
              "      <td>26.2</td>\n",
              "      <td>0.245</td>\n",
              "      <td>30</td>\n",
              "      <td>0.9062</td>\n",
              "      <td>False</td>\n",
              "    </tr>\n",
              "    <tr>\n",
              "      <th>766</th>\n",
              "      <td>1</td>\n",
              "      <td>126</td>\n",
              "      <td>60</td>\n",
              "      <td>0</td>\n",
              "      <td>0</td>\n",
              "      <td>30.1</td>\n",
              "      <td>0.349</td>\n",
              "      <td>47</td>\n",
              "      <td>0.0000</td>\n",
              "      <td>True</td>\n",
              "    </tr>\n",
              "    <tr>\n",
              "      <th>767</th>\n",
              "      <td>1</td>\n",
              "      <td>93</td>\n",
              "      <td>70</td>\n",
              "      <td>31</td>\n",
              "      <td>0</td>\n",
              "      <td>30.4</td>\n",
              "      <td>0.315</td>\n",
              "      <td>23</td>\n",
              "      <td>1.2214</td>\n",
              "      <td>False</td>\n",
              "    </tr>\n",
              "  </tbody>\n",
              "</table>\n",
              "</div>"
            ],
            "text/plain": [
              "     num_preg  glucose_conc  diastolic_bp  thickness  insulin   bmi  \\\n",
              "763        10           101            76         48      180  32.9   \n",
              "764         2           122            70         27        0  36.8   \n",
              "765         5           121            72         23      112  26.2   \n",
              "766         1           126            60          0        0  30.1   \n",
              "767         1            93            70         31        0  30.4   \n",
              "\n",
              "     diab_pred  age    skin  diabetes  \n",
              "763      0.171   63  1.8912     False  \n",
              "764      0.340   27  1.0638     False  \n",
              "765      0.245   30  0.9062     False  \n",
              "766      0.349   47  0.0000      True  \n",
              "767      0.315   23  1.2214     False  "
            ]
          },
          "metadata": {
            "tags": []
          },
          "execution_count": 123
        }
      ]
    },
    {
      "metadata": {
        "id": "DLA8nsvT0IJg",
        "colab_type": "text"
      },
      "cell_type": "markdown",
      "source": [
        "### Definition of features\n",
        "From the metadata on the data source we have the following definition of the features.\n",
        "\n",
        "| Feature  | Description | Comments |\n",
        "|--------------|-------------|--------|\n",
        "| num_preg     | number of pregnancies         |\n",
        "| glucose_conc | Plasma glucose concentration a 2 hours in an oral glucose tolerance test         |\n",
        "| diastolic_bp | Diastolic blood pressure (mm Hg) |\n",
        "| thickness | Triceps skin fold thickness (mm) |\n",
        "|insulin | 2-Hour serum insulin (mu U/ml) |\n",
        "| bmi |  Body mass index (weight in kg/(height in m)^2) |\n",
        "| diab_pred |  Diabetes pedigree function |\n",
        "| Age (years) | Age (years)|\n",
        "| skin | ???? | What is this? |\n",
        "| diabetes | Class variable (1=True, 0=False) |  Why is our data boolean (True/False)? |\n"
      ]
    },
    {
      "metadata": {
        "id": "cTEIg_3HaK4F",
        "colab_type": "text"
      },
      "cell_type": "markdown",
      "source": [
        "# CLEANING THE DATASET\n",
        "\n",
        "Will now check if there is the need to eliminate columns based on the following criteria:\n",
        "\n",
        "\n",
        "1.   Column not used;\n",
        "2.   Column with null values;\n",
        "3.   Duplicate columns.\n",
        "\n"
      ]
    },
    {
      "metadata": {
        "id": "GvKw9X_e0IJg",
        "colab_type": "text"
      },
      "cell_type": "markdown",
      "source": [
        "## Check for null values"
      ]
    },
    {
      "metadata": {
        "id": "-8ounON_a3bg",
        "colab_type": "text"
      },
      "cell_type": "markdown",
      "source": [
        "The panda method ***isnull()*** will make it easy to check if there is any null value in the dataframe."
      ]
    },
    {
      "metadata": {
        "id": "h4dwq3Gn0IJh",
        "colab_type": "code",
        "colab": {
          "base_uri": "https://localhost:8080/",
          "height": 34
        },
        "outputId": "512d8a53-4770-4cdd-e2f7-297c82d6aa1c"
      },
      "cell_type": "code",
      "source": [
        "df.isnull().values.any()\n"
      ],
      "execution_count": 124,
      "outputs": [
        {
          "output_type": "execute_result",
          "data": {
            "text/plain": [
              "False"
            ]
          },
          "metadata": {
            "tags": []
          },
          "execution_count": 124
        }
      ]
    },
    {
      "metadata": {
        "id": "yfGrTvaM0IJk",
        "colab_type": "text"
      },
      "cell_type": "markdown",
      "source": [
        "### Correlated Feature Check"
      ]
    },
    {
      "metadata": {
        "id": "HS8IAyfm0IJk",
        "colab_type": "text"
      },
      "cell_type": "markdown",
      "source": [
        "Helper function that displays correlation by color.  Black is most correlated, White least."
      ]
    },
    {
      "metadata": {
        "id": "KM6KJTvM0IJl",
        "colab_type": "code",
        "colab": {}
      },
      "cell_type": "code",
      "source": [
        "def plot_corr(df, size=11):\n",
        "    \"\"\"\n",
        "    Function plots a graphical correlation matrix for each pair of columns in the dataframe.\n",
        "\n",
        "    Input:\n",
        "        df: pandas DataFrame\n",
        "        size: vertical and horizontal size of the plot\n",
        "\n",
        "    Displays:\n",
        "        matrix of correlation between columns.  white-light_grey-dark_grey-black => less to more correlated\n",
        "                                                0 ------------------>  1\n",
        "                                                Expect a black line running from top left to bottom right\n",
        "    \"\"\"\n",
        "\n",
        "    corr = df.corr()    # data frame correlation function\n",
        "    fig, ax = plt.subplots(figsize=(size, size))\n",
        "    ax.matshow(corr)   # color code the rectangles by correlation value\n",
        "    plt.xticks(range(len(corr.columns)), corr.columns)  # draw x tick marks\n",
        "    plt.yticks(range(len(corr.columns)), corr.columns)  # draw y tick marks\n"
      ],
      "execution_count": 0,
      "outputs": []
    },
    {
      "metadata": {
        "id": "vCSHsvtZ0IJn",
        "colab_type": "code",
        "colab": {
          "base_uri": "https://localhost:8080/",
          "height": 646
        },
        "outputId": "990ddbba-6ac2-444d-c366-43032ec05348"
      },
      "cell_type": "code",
      "source": [
        "plot_corr(df)"
      ],
      "execution_count": 126,
      "outputs": [
        {
          "output_type": "display_data",
          "data": {
            "image/png": "[encoded data removed]",
            "text/plain": [
              "<matplotlib.figure.Figure at 0x7fb13199a4e0>"
            ]
          },
          "metadata": {
            "tags": []
          }
        }
      ]
    },
    {
      "metadata": {
        "id": "QBg0LeiIb2uZ",
        "colab_type": "text"
      },
      "cell_type": "markdown",
      "source": [
        "Notice the column names running across the horizontal and vertical axes.\n",
        "\n",
        "This is a matrix showing which columns have data values that are correlated with values in other columns.\n",
        "\n",
        "Black means the columns are highly positively correlated. \n",
        "\n",
        "Since we have the same columns along the horizontal and vertical axes, black squares are expected on a diagonal from upper left to the lower right.\n",
        "\n",
        "There are actually 2 squares in positions they're not expected to be in, the **skin** and the **thickness**. This means there are strong correlations between these 2 columns.\n",
        "\n",
        "Checking now the correlation numbers to verify the result shown on the graph to see how correlated the **skin** and the **thickness** are."
      ]
    },
    {
      "metadata": {
        "id": "qFfkS0B_0IJr",
        "colab_type": "code",
        "colab": {
          "base_uri": "https://localhost:8080/",
          "height": 359
        },
        "outputId": "54466898-d76d-41f0-a660-d853372ce7c8"
      },
      "cell_type": "code",
      "source": [
        "df.corr()"
      ],
      "execution_count": 127,
      "outputs": [
        {
          "output_type": "execute_result",
          "data": {
            "text/html": [
              "<div>\n",
              "<style scoped>\n",
              "    .dataframe tbody tr th:only-of-type {\n",
              "        vertical-align: middle;\n",
              "    }\n",
              "\n",
              "    .dataframe tbody tr th {\n",
              "        vertical-align: top;\n",
              "    }\n",
              "\n",
              "    .dataframe thead th {\n",
              "        text-align: right;\n",
              "    }\n",
              "</style>\n",
              "<table border=\"1\" class=\"dataframe\">\n",
              "  <thead>\n",
              "    <tr style=\"text-align: right;\">\n",
              "      <th></th>\n",
              "      <th>num_preg</th>\n",
              "      <th>glucose_conc</th>\n",
              "      <th>diastolic_bp</th>\n",
              "      <th>thickness</th>\n",
              "      <th>insulin</th>\n",
              "      <th>bmi</th>\n",
              "      <th>diab_pred</th>\n",
              "      <th>age</th>\n",
              "      <th>skin</th>\n",
              "      <th>diabetes</th>\n",
              "    </tr>\n",
              "  </thead>\n",
              "  <tbody>\n",
              "    <tr>\n",
              "      <th>num_preg</th>\n",
              "      <td>1.000000</td>\n",
              "      <td>0.129459</td>\n",
              "      <td>0.141282</td>\n",
              "      <td>-0.081672</td>\n",
              "      <td>-0.073535</td>\n",
              "      <td>0.017683</td>\n",
              "      <td>-0.033523</td>\n",
              "      <td>0.544341</td>\n",
              "      <td>-0.081672</td>\n",
              "      <td>0.221898</td>\n",
              "    </tr>\n",
              "    <tr>\n",
              "      <th>glucose_conc</th>\n",
              "      <td>0.129459</td>\n",
              "      <td>1.000000</td>\n",
              "      <td>0.152590</td>\n",
              "      <td>0.057328</td>\n",
              "      <td>0.331357</td>\n",
              "      <td>0.221071</td>\n",
              "      <td>0.137337</td>\n",
              "      <td>0.263514</td>\n",
              "      <td>0.057328</td>\n",
              "      <td>0.466581</td>\n",
              "    </tr>\n",
              "    <tr>\n",
              "      <th>diastolic_bp</th>\n",
              "      <td>0.141282</td>\n",
              "      <td>0.152590</td>\n",
              "      <td>1.000000</td>\n",
              "      <td>0.207371</td>\n",
              "      <td>0.088933</td>\n",
              "      <td>0.281805</td>\n",
              "      <td>0.041265</td>\n",
              "      <td>0.239528</td>\n",
              "      <td>0.207371</td>\n",
              "      <td>0.065068</td>\n",
              "    </tr>\n",
              "    <tr>\n",
              "      <th>thickness</th>\n",
              "      <td>-0.081672</td>\n",
              "      <td>0.057328</td>\n",
              "      <td>0.207371</td>\n",
              "      <td>1.000000</td>\n",
              "      <td>0.436783</td>\n",
              "      <td>0.392573</td>\n",
              "      <td>0.183928</td>\n",
              "      <td>-0.113970</td>\n",
              "      <td>1.000000</td>\n",
              "      <td>0.074752</td>\n",
              "    </tr>\n",
              "    <tr>\n",
              "      <th>insulin</th>\n",
              "      <td>-0.073535</td>\n",
              "      <td>0.331357</td>\n",
              "      <td>0.088933</td>\n",
              "      <td>0.436783</td>\n",
              "      <td>1.000000</td>\n",
              "      <td>0.197859</td>\n",
              "      <td>0.185071</td>\n",
              "      <td>-0.042163</td>\n",
              "      <td>0.436783</td>\n",
              "      <td>0.130548</td>\n",
              "    </tr>\n",
              "    <tr>\n",
              "      <th>bmi</th>\n",
              "      <td>0.017683</td>\n",
              "      <td>0.221071</td>\n",
              "      <td>0.281805</td>\n",
              "      <td>0.392573</td>\n",
              "      <td>0.197859</td>\n",
              "      <td>1.000000</td>\n",
              "      <td>0.140647</td>\n",
              "      <td>0.036242</td>\n",
              "      <td>0.392573</td>\n",
              "      <td>0.292695</td>\n",
              "    </tr>\n",
              "    <tr>\n",
              "      <th>diab_pred</th>\n",
              "      <td>-0.033523</td>\n",
              "      <td>0.137337</td>\n",
              "      <td>0.041265</td>\n",
              "      <td>0.183928</td>\n",
              "      <td>0.185071</td>\n",
              "      <td>0.140647</td>\n",
              "      <td>1.000000</td>\n",
              "      <td>0.033561</td>\n",
              "      <td>0.183928</td>\n",
              "      <td>0.173844</td>\n",
              "    </tr>\n",
              "    <tr>\n",
              "      <th>age</th>\n",
              "      <td>0.544341</td>\n",
              "      <td>0.263514</td>\n",
              "      <td>0.239528</td>\n",
              "      <td>-0.113970</td>\n",
              "      <td>-0.042163</td>\n",
              "      <td>0.036242</td>\n",
              "      <td>0.033561</td>\n",
              "      <td>1.000000</td>\n",
              "      <td>-0.113970</td>\n",
              "      <td>0.238356</td>\n",
              "    </tr>\n",
              "    <tr>\n",
              "      <th>skin</th>\n",
              "      <td>-0.081672</td>\n",
              "      <td>0.057328</td>\n",
              "      <td>0.207371</td>\n",
              "      <td>1.000000</td>\n",
              "      <td>0.436783</td>\n",
              "      <td>0.392573</td>\n",
              "      <td>0.183928</td>\n",
              "      <td>-0.113970</td>\n",
              "      <td>1.000000</td>\n",
              "      <td>0.074752</td>\n",
              "    </tr>\n",
              "    <tr>\n",
              "      <th>diabetes</th>\n",
              "      <td>0.221898</td>\n",
              "      <td>0.466581</td>\n",
              "      <td>0.065068</td>\n",
              "      <td>0.074752</td>\n",
              "      <td>0.130548</td>\n",
              "      <td>0.292695</td>\n",
              "      <td>0.173844</td>\n",
              "      <td>0.238356</td>\n",
              "      <td>0.074752</td>\n",
              "      <td>1.000000</td>\n",
              "    </tr>\n",
              "  </tbody>\n",
              "</table>\n",
              "</div>"
            ],
            "text/plain": [
              "              num_preg  glucose_conc  diastolic_bp  thickness   insulin  \\\n",
              "num_preg      1.000000      0.129459      0.141282  -0.081672 -0.073535   \n",
              "glucose_conc  0.129459      1.000000      0.152590   0.057328  0.331357   \n",
              "diastolic_bp  0.141282      0.152590      1.000000   0.207371  0.088933   \n",
              "thickness    -0.081672      0.057328      0.207371   1.000000  0.436783   \n",
              "insulin      -0.073535      0.331357      0.088933   0.436783  1.000000   \n",
              "bmi           0.017683      0.221071      0.281805   0.392573  0.197859   \n",
              "diab_pred    -0.033523      0.137337      0.041265   0.183928  0.185071   \n",
              "age           0.544341      0.263514      0.239528  -0.113970 -0.042163   \n",
              "skin         -0.081672      0.057328      0.207371   1.000000  0.436783   \n",
              "diabetes      0.221898      0.466581      0.065068   0.074752  0.130548   \n",
              "\n",
              "                   bmi  diab_pred       age      skin  diabetes  \n",
              "num_preg      0.017683  -0.033523  0.544341 -0.081672  0.221898  \n",
              "glucose_conc  0.221071   0.137337  0.263514  0.057328  0.466581  \n",
              "diastolic_bp  0.281805   0.041265  0.239528  0.207371  0.065068  \n",
              "thickness     0.392573   0.183928 -0.113970  1.000000  0.074752  \n",
              "insulin       0.197859   0.185071 -0.042163  0.436783  0.130548  \n",
              "bmi           1.000000   0.140647  0.036242  0.392573  0.292695  \n",
              "diab_pred     0.140647   1.000000  0.033561  0.183928  0.173844  \n",
              "age           0.036242   0.033561  1.000000 -0.113970  0.238356  \n",
              "skin          0.392573   0.183928 -0.113970  1.000000  0.074752  \n",
              "diabetes      0.292695   0.173844  0.238356  0.074752  1.000000  "
            ]
          },
          "metadata": {
            "tags": []
          },
          "execution_count": 127
        }
      ]
    },
    {
      "metadata": {
        "id": "NTnhwHGHdZFF",
        "colab_type": "text"
      },
      "cell_type": "markdown",
      "source": [
        "Notice the 1.00 value running down the diagonal of the table. This is because of each column with itself which is of course a perfect correlation. \n",
        "\n",
        "The same happens for the **thickness** and **skin** columns which is not expected. Having two features that move together adds no additional information.\n",
        "\n",
        "The solution to this problem is to drop at least one column, in this case the **skin** column."
      ]
    },
    {
      "metadata": {
        "id": "K4FJ_hBt0IJv",
        "colab_type": "code",
        "colab": {
          "base_uri": "https://localhost:8080/",
          "height": 204
        },
        "outputId": "fd18d144-bd04-46d3-fa2c-dd51f92ce94a"
      },
      "cell_type": "code",
      "source": [
        "df.head(5)"
      ],
      "execution_count": 128,
      "outputs": [
        {
          "output_type": "execute_result",
          "data": {
            "text/html": [
              "<div>\n",
              "<style scoped>\n",
              "    .dataframe tbody tr th:only-of-type {\n",
              "        vertical-align: middle;\n",
              "    }\n",
              "\n",
              "    .dataframe tbody tr th {\n",
              "        vertical-align: top;\n",
              "    }\n",
              "\n",
              "    .dataframe thead th {\n",
              "        text-align: right;\n",
              "    }\n",
              "</style>\n",
              "<table border=\"1\" class=\"dataframe\">\n",
              "  <thead>\n",
              "    <tr style=\"text-align: right;\">\n",
              "      <th></th>\n",
              "      <th>num_preg</th>\n",
              "      <th>glucose_conc</th>\n",
              "      <th>diastolic_bp</th>\n",
              "      <th>thickness</th>\n",
              "      <th>insulin</th>\n",
              "      <th>bmi</th>\n",
              "      <th>diab_pred</th>\n",
              "      <th>age</th>\n",
              "      <th>skin</th>\n",
              "      <th>diabetes</th>\n",
              "    </tr>\n",
              "  </thead>\n",
              "  <tbody>\n",
              "    <tr>\n",
              "      <th>0</th>\n",
              "      <td>6</td>\n",
              "      <td>148</td>\n",
              "      <td>72</td>\n",
              "      <td>35</td>\n",
              "      <td>0</td>\n",
              "      <td>33.6</td>\n",
              "      <td>0.627</td>\n",
              "      <td>50</td>\n",
              "      <td>1.3790</td>\n",
              "      <td>True</td>\n",
              "    </tr>\n",
              "    <tr>\n",
              "      <th>1</th>\n",
              "      <td>1</td>\n",
              "      <td>85</td>\n",
              "      <td>66</td>\n",
              "      <td>29</td>\n",
              "      <td>0</td>\n",
              "      <td>26.6</td>\n",
              "      <td>0.351</td>\n",
              "      <td>31</td>\n",
              "      <td>1.1426</td>\n",
              "      <td>False</td>\n",
              "    </tr>\n",
              "    <tr>\n",
              "      <th>2</th>\n",
              "      <td>8</td>\n",
              "      <td>183</td>\n",
              "      <td>64</td>\n",
              "      <td>0</td>\n",
              "      <td>0</td>\n",
              "      <td>23.3</td>\n",
              "      <td>0.672</td>\n",
              "      <td>32</td>\n",
              "      <td>0.0000</td>\n",
              "      <td>True</td>\n",
              "    </tr>\n",
              "    <tr>\n",
              "      <th>3</th>\n",
              "      <td>1</td>\n",
              "      <td>89</td>\n",
              "      <td>66</td>\n",
              "      <td>23</td>\n",
              "      <td>94</td>\n",
              "      <td>28.1</td>\n",
              "      <td>0.167</td>\n",
              "      <td>21</td>\n",
              "      <td>0.9062</td>\n",
              "      <td>False</td>\n",
              "    </tr>\n",
              "    <tr>\n",
              "      <th>4</th>\n",
              "      <td>0</td>\n",
              "      <td>137</td>\n",
              "      <td>40</td>\n",
              "      <td>35</td>\n",
              "      <td>168</td>\n",
              "      <td>43.1</td>\n",
              "      <td>2.288</td>\n",
              "      <td>33</td>\n",
              "      <td>1.3790</td>\n",
              "      <td>True</td>\n",
              "    </tr>\n",
              "  </tbody>\n",
              "</table>\n",
              "</div>"
            ],
            "text/plain": [
              "   num_preg  glucose_conc  diastolic_bp  thickness  insulin   bmi  diab_pred  \\\n",
              "0         6           148            72         35        0  33.6      0.627   \n",
              "1         1            85            66         29        0  26.6      0.351   \n",
              "2         8           183            64          0        0  23.3      0.672   \n",
              "3         1            89            66         23       94  28.1      0.167   \n",
              "4         0           137            40         35      168  43.1      2.288   \n",
              "\n",
              "   age    skin  diabetes  \n",
              "0   50  1.3790      True  \n",
              "1   31  1.1426     False  \n",
              "2   32  0.0000      True  \n",
              "3   21  0.9062     False  \n",
              "4   33  1.3790      True  "
            ]
          },
          "metadata": {
            "tags": []
          },
          "execution_count": 128
        }
      ]
    },
    {
      "metadata": {
        "id": "WP7TiDkA0IJ0",
        "colab_type": "text"
      },
      "cell_type": "markdown",
      "source": [
        "The skin and thickness columns are correlated 1 to 1.  Dropping the skin column using the ***del*** command."
      ]
    },
    {
      "metadata": {
        "id": "GAuunP1Q0IJ2",
        "colab_type": "code",
        "colab": {}
      },
      "cell_type": "code",
      "source": [
        "del df['skin']"
      ],
      "execution_count": 0,
      "outputs": []
    },
    {
      "metadata": {
        "id": "QcHWYvlleVHu",
        "colab_type": "text"
      },
      "cell_type": "markdown",
      "source": [
        "Checking the **skin** column has been dropped."
      ]
    },
    {
      "metadata": {
        "id": "MbSKEDig0IJ5",
        "colab_type": "code",
        "colab": {
          "base_uri": "https://localhost:8080/",
          "height": 204
        },
        "outputId": "e8432e1f-f729-4662-e3de-2f81e80d0c2c"
      },
      "cell_type": "code",
      "source": [
        "df.head(5)"
      ],
      "execution_count": 130,
      "outputs": [
        {
          "output_type": "execute_result",
          "data": {
            "text/html": [
              "<div>\n",
              "<style scoped>\n",
              "    .dataframe tbody tr th:only-of-type {\n",
              "        vertical-align: middle;\n",
              "    }\n",
              "\n",
              "    .dataframe tbody tr th {\n",
              "        vertical-align: top;\n",
              "    }\n",
              "\n",
              "    .dataframe thead th {\n",
              "        text-align: right;\n",
              "    }\n",
              "</style>\n",
              "<table border=\"1\" class=\"dataframe\">\n",
              "  <thead>\n",
              "    <tr style=\"text-align: right;\">\n",
              "      <th></th>\n",
              "      <th>num_preg</th>\n",
              "      <th>glucose_conc</th>\n",
              "      <th>diastolic_bp</th>\n",
              "      <th>thickness</th>\n",
              "      <th>insulin</th>\n",
              "      <th>bmi</th>\n",
              "      <th>diab_pred</th>\n",
              "      <th>age</th>\n",
              "      <th>diabetes</th>\n",
              "    </tr>\n",
              "  </thead>\n",
              "  <tbody>\n",
              "    <tr>\n",
              "      <th>0</th>\n",
              "      <td>6</td>\n",
              "      <td>148</td>\n",
              "      <td>72</td>\n",
              "      <td>35</td>\n",
              "      <td>0</td>\n",
              "      <td>33.6</td>\n",
              "      <td>0.627</td>\n",
              "      <td>50</td>\n",
              "      <td>True</td>\n",
              "    </tr>\n",
              "    <tr>\n",
              "      <th>1</th>\n",
              "      <td>1</td>\n",
              "      <td>85</td>\n",
              "      <td>66</td>\n",
              "      <td>29</td>\n",
              "      <td>0</td>\n",
              "      <td>26.6</td>\n",
              "      <td>0.351</td>\n",
              "      <td>31</td>\n",
              "      <td>False</td>\n",
              "    </tr>\n",
              "    <tr>\n",
              "      <th>2</th>\n",
              "      <td>8</td>\n",
              "      <td>183</td>\n",
              "      <td>64</td>\n",
              "      <td>0</td>\n",
              "      <td>0</td>\n",
              "      <td>23.3</td>\n",
              "      <td>0.672</td>\n",
              "      <td>32</td>\n",
              "      <td>True</td>\n",
              "    </tr>\n",
              "    <tr>\n",
              "      <th>3</th>\n",
              "      <td>1</td>\n",
              "      <td>89</td>\n",
              "      <td>66</td>\n",
              "      <td>23</td>\n",
              "      <td>94</td>\n",
              "      <td>28.1</td>\n",
              "      <td>0.167</td>\n",
              "      <td>21</td>\n",
              "      <td>False</td>\n",
              "    </tr>\n",
              "    <tr>\n",
              "      <th>4</th>\n",
              "      <td>0</td>\n",
              "      <td>137</td>\n",
              "      <td>40</td>\n",
              "      <td>35</td>\n",
              "      <td>168</td>\n",
              "      <td>43.1</td>\n",
              "      <td>2.288</td>\n",
              "      <td>33</td>\n",
              "      <td>True</td>\n",
              "    </tr>\n",
              "  </tbody>\n",
              "</table>\n",
              "</div>"
            ],
            "text/plain": [
              "   num_preg  glucose_conc  diastolic_bp  thickness  insulin   bmi  diab_pred  \\\n",
              "0         6           148            72         35        0  33.6      0.627   \n",
              "1         1            85            66         29        0  26.6      0.351   \n",
              "2         8           183            64          0        0  23.3      0.672   \n",
              "3         1            89            66         23       94  28.1      0.167   \n",
              "4         0           137            40         35      168  43.1      2.288   \n",
              "\n",
              "   age  diabetes  \n",
              "0   50      True  \n",
              "1   31     False  \n",
              "2   32      True  \n",
              "3   21     False  \n",
              "4   33      True  "
            ]
          },
          "metadata": {
            "tags": []
          },
          "execution_count": 130
        }
      ]
    },
    {
      "metadata": {
        "id": "hEPy9uwT0IJ8",
        "colab_type": "text"
      },
      "cell_type": "markdown",
      "source": [
        "Check for additional correlations to make sure the dataset is clean, therefore no black squares should be seen other than on the diagonal."
      ]
    },
    {
      "metadata": {
        "id": "GTUp9yIX0IJ9",
        "colab_type": "code",
        "colab": {
          "base_uri": "https://localhost:8080/",
          "height": 646
        },
        "outputId": "6bb19e15-7978-4f91-fc10-38c575a836c3"
      },
      "cell_type": "code",
      "source": [
        "plot_corr(df)"
      ],
      "execution_count": 131,
      "outputs": [
        {
          "output_type": "display_data",
          "data": {
            "image/png": "[encoded data removed]",
            "text/plain": [
              "<matplotlib.figure.Figure at 0x7fb1318a0438>"
            ]
          },
          "metadata": {
            "tags": []
          }
        }
      ]
    },
    {
      "metadata": {
        "id": "TTQEhwK20IJ_",
        "colab_type": "text"
      },
      "cell_type": "markdown",
      "source": [
        "The correlations look good.  There appear to be no coorelated columns."
      ]
    },
    {
      "metadata": {
        "id": "Yaq-qt4q0IJ_",
        "colab_type": "text"
      },
      "cell_type": "markdown",
      "source": [
        "## Mold Data"
      ]
    },
    {
      "metadata": {
        "id": "grvKmclQ0IJ_",
        "colab_type": "text"
      },
      "cell_type": "markdown",
      "source": [
        "### Data Types\n",
        "\n",
        "Inspect data types to see if there are any issues.  Data should be numeric."
      ]
    },
    {
      "metadata": {
        "id": "y4eGJwnM0IKA",
        "colab_type": "code",
        "colab": {
          "base_uri": "https://localhost:8080/",
          "height": 204
        },
        "outputId": "96e40add-55b3-466a-dc9b-9269c209952d"
      },
      "cell_type": "code",
      "source": [
        "df.head(5)"
      ],
      "execution_count": 132,
      "outputs": [
        {
          "output_type": "execute_result",
          "data": {
            "text/html": [
              "<div>\n",
              "<style scoped>\n",
              "    .dataframe tbody tr th:only-of-type {\n",
              "        vertical-align: middle;\n",
              "    }\n",
              "\n",
              "    .dataframe tbody tr th {\n",
              "        vertical-align: top;\n",
              "    }\n",
              "\n",
              "    .dataframe thead th {\n",
              "        text-align: right;\n",
              "    }\n",
              "</style>\n",
              "<table border=\"1\" class=\"dataframe\">\n",
              "  <thead>\n",
              "    <tr style=\"text-align: right;\">\n",
              "      <th></th>\n",
              "      <th>num_preg</th>\n",
              "      <th>glucose_conc</th>\n",
              "      <th>diastolic_bp</th>\n",
              "      <th>thickness</th>\n",
              "      <th>insulin</th>\n",
              "      <th>bmi</th>\n",
              "      <th>diab_pred</th>\n",
              "      <th>age</th>\n",
              "      <th>diabetes</th>\n",
              "    </tr>\n",
              "  </thead>\n",
              "  <tbody>\n",
              "    <tr>\n",
              "      <th>0</th>\n",
              "      <td>6</td>\n",
              "      <td>148</td>\n",
              "      <td>72</td>\n",
              "      <td>35</td>\n",
              "      <td>0</td>\n",
              "      <td>33.6</td>\n",
              "      <td>0.627</td>\n",
              "      <td>50</td>\n",
              "      <td>True</td>\n",
              "    </tr>\n",
              "    <tr>\n",
              "      <th>1</th>\n",
              "      <td>1</td>\n",
              "      <td>85</td>\n",
              "      <td>66</td>\n",
              "      <td>29</td>\n",
              "      <td>0</td>\n",
              "      <td>26.6</td>\n",
              "      <td>0.351</td>\n",
              "      <td>31</td>\n",
              "      <td>False</td>\n",
              "    </tr>\n",
              "    <tr>\n",
              "      <th>2</th>\n",
              "      <td>8</td>\n",
              "      <td>183</td>\n",
              "      <td>64</td>\n",
              "      <td>0</td>\n",
              "      <td>0</td>\n",
              "      <td>23.3</td>\n",
              "      <td>0.672</td>\n",
              "      <td>32</td>\n",
              "      <td>True</td>\n",
              "    </tr>\n",
              "    <tr>\n",
              "      <th>3</th>\n",
              "      <td>1</td>\n",
              "      <td>89</td>\n",
              "      <td>66</td>\n",
              "      <td>23</td>\n",
              "      <td>94</td>\n",
              "      <td>28.1</td>\n",
              "      <td>0.167</td>\n",
              "      <td>21</td>\n",
              "      <td>False</td>\n",
              "    </tr>\n",
              "    <tr>\n",
              "      <th>4</th>\n",
              "      <td>0</td>\n",
              "      <td>137</td>\n",
              "      <td>40</td>\n",
              "      <td>35</td>\n",
              "      <td>168</td>\n",
              "      <td>43.1</td>\n",
              "      <td>2.288</td>\n",
              "      <td>33</td>\n",
              "      <td>True</td>\n",
              "    </tr>\n",
              "  </tbody>\n",
              "</table>\n",
              "</div>"
            ],
            "text/plain": [
              "   num_preg  glucose_conc  diastolic_bp  thickness  insulin   bmi  diab_pred  \\\n",
              "0         6           148            72         35        0  33.6      0.627   \n",
              "1         1            85            66         29        0  26.6      0.351   \n",
              "2         8           183            64          0        0  23.3      0.672   \n",
              "3         1            89            66         23       94  28.1      0.167   \n",
              "4         0           137            40         35      168  43.1      2.288   \n",
              "\n",
              "   age  diabetes  \n",
              "0   50      True  \n",
              "1   31     False  \n",
              "2   32      True  \n",
              "3   21     False  \n",
              "4   33      True  "
            ]
          },
          "metadata": {
            "tags": []
          },
          "execution_count": 132
        }
      ]
    },
    {
      "metadata": {
        "id": "B_wK84QT0IKC",
        "colab_type": "text"
      },
      "cell_type": "markdown",
      "source": [
        "Change diabetes from boolean to integer, True=1, False=0\n",
        "\n",
        "A mapping dictionary will be used to define those values as the Panda dataframe will do the work iterating through the data."
      ]
    },
    {
      "metadata": {
        "id": "_tXH1d1n0IKD",
        "colab_type": "code",
        "colab": {}
      },
      "cell_type": "code",
      "source": [
        "diabetes_map = {True : 1, False : 0}\n",
        "df['diabetes'] = df['diabetes'].map(diabetes_map)"
      ],
      "execution_count": 0,
      "outputs": []
    },
    {
      "metadata": {
        "id": "cML_1JUo0IKF",
        "colab_type": "text"
      },
      "cell_type": "markdown",
      "source": [
        "Verifying that the diabetes data type has been changed."
      ]
    },
    {
      "metadata": {
        "id": "38HwVf3-0IKG",
        "colab_type": "code",
        "colab": {
          "base_uri": "https://localhost:8080/",
          "height": 204
        },
        "outputId": "7a059f96-1abc-46aa-db8d-d6266b257cda"
      },
      "cell_type": "code",
      "source": [
        "df.head(5)"
      ],
      "execution_count": 134,
      "outputs": [
        {
          "output_type": "execute_result",
          "data": {
            "text/html": [
              "<div>\n",
              "<style scoped>\n",
              "    .dataframe tbody tr th:only-of-type {\n",
              "        vertical-align: middle;\n",
              "    }\n",
              "\n",
              "    .dataframe tbody tr th {\n",
              "        vertical-align: top;\n",
              "    }\n",
              "\n",
              "    .dataframe thead th {\n",
              "        text-align: right;\n",
              "    }\n",
              "</style>\n",
              "<table border=\"1\" class=\"dataframe\">\n",
              "  <thead>\n",
              "    <tr style=\"text-align: right;\">\n",
              "      <th></th>\n",
              "      <th>num_preg</th>\n",
              "      <th>glucose_conc</th>\n",
              "      <th>diastolic_bp</th>\n",
              "      <th>thickness</th>\n",
              "      <th>insulin</th>\n",
              "      <th>bmi</th>\n",
              "      <th>diab_pred</th>\n",
              "      <th>age</th>\n",
              "      <th>diabetes</th>\n",
              "    </tr>\n",
              "  </thead>\n",
              "  <tbody>\n",
              "    <tr>\n",
              "      <th>0</th>\n",
              "      <td>6</td>\n",
              "      <td>148</td>\n",
              "      <td>72</td>\n",
              "      <td>35</td>\n",
              "      <td>0</td>\n",
              "      <td>33.6</td>\n",
              "      <td>0.627</td>\n",
              "      <td>50</td>\n",
              "      <td>1</td>\n",
              "    </tr>\n",
              "    <tr>\n",
              "      <th>1</th>\n",
              "      <td>1</td>\n",
              "      <td>85</td>\n",
              "      <td>66</td>\n",
              "      <td>29</td>\n",
              "      <td>0</td>\n",
              "      <td>26.6</td>\n",
              "      <td>0.351</td>\n",
              "      <td>31</td>\n",
              "      <td>0</td>\n",
              "    </tr>\n",
              "    <tr>\n",
              "      <th>2</th>\n",
              "      <td>8</td>\n",
              "      <td>183</td>\n",
              "      <td>64</td>\n",
              "      <td>0</td>\n",
              "      <td>0</td>\n",
              "      <td>23.3</td>\n",
              "      <td>0.672</td>\n",
              "      <td>32</td>\n",
              "      <td>1</td>\n",
              "    </tr>\n",
              "    <tr>\n",
              "      <th>3</th>\n",
              "      <td>1</td>\n",
              "      <td>89</td>\n",
              "      <td>66</td>\n",
              "      <td>23</td>\n",
              "      <td>94</td>\n",
              "      <td>28.1</td>\n",
              "      <td>0.167</td>\n",
              "      <td>21</td>\n",
              "      <td>0</td>\n",
              "    </tr>\n",
              "    <tr>\n",
              "      <th>4</th>\n",
              "      <td>0</td>\n",
              "      <td>137</td>\n",
              "      <td>40</td>\n",
              "      <td>35</td>\n",
              "      <td>168</td>\n",
              "      <td>43.1</td>\n",
              "      <td>2.288</td>\n",
              "      <td>33</td>\n",
              "      <td>1</td>\n",
              "    </tr>\n",
              "  </tbody>\n",
              "</table>\n",
              "</div>"
            ],
            "text/plain": [
              "   num_preg  glucose_conc  diastolic_bp  thickness  insulin   bmi  diab_pred  \\\n",
              "0         6           148            72         35        0  33.6      0.627   \n",
              "1         1            85            66         29        0  26.6      0.351   \n",
              "2         8           183            64          0        0  23.3      0.672   \n",
              "3         1            89            66         23       94  28.1      0.167   \n",
              "4         0           137            40         35      168  43.1      2.288   \n",
              "\n",
              "   age  diabetes  \n",
              "0   50         1  \n",
              "1   31         0  \n",
              "2   32         1  \n",
              "3   21         0  \n",
              "4   33         1  "
            ]
          },
          "metadata": {
            "tags": []
          },
          "execution_count": 134
        }
      ]
    },
    {
      "metadata": {
        "id": "i5JNtKFc0IKH",
        "colab_type": "text"
      },
      "cell_type": "markdown",
      "source": [
        "### Check for null values"
      ]
    },
    {
      "metadata": {
        "id": "BBHXFAhg0IKI",
        "colab_type": "code",
        "colab": {
          "base_uri": "https://localhost:8080/",
          "height": 34
        },
        "outputId": "50a2bb5e-177a-4c59-84d2-56c1d8bd8098"
      },
      "cell_type": "code",
      "source": [
        "df.isnull().values.any()"
      ],
      "execution_count": 135,
      "outputs": [
        {
          "output_type": "execute_result",
          "data": {
            "text/plain": [
              "False"
            ]
          },
          "metadata": {
            "tags": []
          },
          "execution_count": 135
        }
      ]
    },
    {
      "metadata": {
        "id": "G_1PJ1S40IKK",
        "colab_type": "text"
      },
      "cell_type": "markdown",
      "source": [
        "No obvious null values."
      ]
    },
    {
      "metadata": {
        "id": "8L7-k4AE0IKL",
        "colab_type": "text"
      },
      "cell_type": "markdown",
      "source": [
        "### Check class distribution \n",
        "\n",
        "At this point the class distribution will be checked analysing how many **diabetes = true** and **diabetes = false** are in the dataset to understand if the information are suitable to train the model and get reasonable results.\n",
        "\n",
        "If the dataset was containing either a vast majority of true cases and a few false or viceversa, there would have been the need to gather more information to be able to proceed to build an acceptable model.\n",
        "\n",
        "In this case the data seem split in a way that will allow the model to be trained without implementing more information."
      ]
    },
    {
      "metadata": {
        "id": "je734ZnV0IKL",
        "colab_type": "code",
        "colab": {
          "base_uri": "https://localhost:8080/",
          "height": 51
        },
        "outputId": "0e110437-d64d-43e9-d01b-103c3994a77f"
      },
      "cell_type": "code",
      "source": [
        "num_obs = len(df)\n",
        "num_true = len(df.loc[df['diabetes'] == 1])\n",
        "num_false = len(df.loc[df['diabetes'] == 0])\n",
        "print(\"Number of True cases:  {0} ({1:2.2f}%)\".format(num_true, (num_true/num_obs) * 100))\n",
        "print(\"Number of False cases: {0} ({1:2.2f}%)\".format(num_false, (num_false/num_obs) * 100))"
      ],
      "execution_count": 136,
      "outputs": [
        {
          "output_type": "stream",
          "text": [
            "Number of True cases:  268 (34.90%)\n",
            "Number of False cases: 500 (65.10%)\n"
          ],
          "name": "stdout"
        }
      ]
    },
    {
      "metadata": {
        "id": "LXlpcKT4iKEY",
        "colab_type": "text"
      },
      "cell_type": "markdown",
      "source": [
        "# TRAINING THE ALGORITHM"
      ]
    },
    {
      "metadata": {
        "id": "svFMJXiq0IKO",
        "colab_type": "text"
      },
      "cell_type": "markdown",
      "source": [
        "### Spliting the data \n",
        "\n",
        "Data will be splitted in 70% for training and 30% for testing.\n",
        "\n",
        "The algorithm will be trained with the training set while the testing set will be used to verify the quality of the training. The test set will never be used for training.\n",
        "\n",
        "The ***scikit-learn***  train test split method will be used for this task.\n",
        "\n",
        "The feature columns and the predicted column will be defined and the prepared data will be split in two dataframes, one containing the feature columns and the other with the predicted diabetes result for each observation row.\n",
        "\n",
        "A value of 0.30 (30%) is assigned to the **test_size** value.\n",
        "\n",
        "These dataframes and the test size are passed to the **train test split** function which splits the original dataframes and returns four NumPy arrays of data.\n",
        "\n",
        "The **random_state = 42** is an important feature that sets the seed for the random number generator used as part of the splitting process. Setting the seed to a constant insures that if the function is run again, the split will be identical."
      ]
    },
    {
      "metadata": {
        "id": "6v-yOWwP0IKP",
        "colab_type": "code",
        "colab": {}
      },
      "cell_type": "code",
      "source": [
        "from sklearn.cross_validation import train_test_split\n",
        "\n",
        "feature_col_names = ['num_preg', 'glucose_conc', 'diastolic_bp', 'thickness', 'insulin', 'bmi', 'diab_pred', 'age']\n",
        "predicted_class_names = ['diabetes']\n",
        "\n",
        "X = df[feature_col_names].values     # predictor feature columns (8 X m)\n",
        "y = df[predicted_class_names].values # predicted class (1=true, 0=false) column (1 X m)\n",
        "split_test_size = 0.30\n",
        "\n",
        "X_train, X_test, y_train, y_test = train_test_split(X, y, test_size=split_test_size, random_state=42) \n",
        "                            # test_size = 0.3 is 30%, 42 is the answer to everything"
      ],
      "execution_count": 0,
      "outputs": []
    },
    {
      "metadata": {
        "id": "KSl_lORQ0IKQ",
        "colab_type": "text"
      },
      "cell_type": "markdown",
      "source": [
        "Ensure that the split of the data  desired is 70% train, 30% test .\n",
        "\n",
        "In this case the values are very close to the original data, therefore this is an acceptable split for the model."
      ]
    },
    {
      "metadata": {
        "id": "5EWSXLZ40IKR",
        "colab_type": "code",
        "colab": {
          "base_uri": "https://localhost:8080/",
          "height": 51
        },
        "outputId": "fda0f10e-7786-4249-d90e-4c516271c63d"
      },
      "cell_type": "code",
      "source": [
        "print(\"{0:0.2f}% in training set\".format((len(X_train)/len(df.index)) * 100))\n",
        "print(\"{0:0.2f}% in test set\".format((len(X_test)/len(df.index)) * 100))"
      ],
      "execution_count": 138,
      "outputs": [
        {
          "output_type": "stream",
          "text": [
            "69.92% in training set\n",
            "30.08% in test set\n"
          ],
          "name": "stdout"
        }
      ]
    },
    {
      "metadata": {
        "id": "PC-4van50IKT",
        "colab_type": "text"
      },
      "cell_type": "markdown",
      "source": [
        "#### Verifying predicted value was split correctly\n",
        "\n",
        "Comparing the **diabetes = true** or **false** values among the ***Original dataset*** , ***Training dataset*** and ***Test dataset*** ."
      ]
    },
    {
      "metadata": {
        "id": "yWf_Bar10IKU",
        "colab_type": "code",
        "colab": {
          "base_uri": "https://localhost:8080/",
          "height": 153
        },
        "outputId": "ee9d2e14-35cd-4fce-9f0c-f9f1da89e2eb"
      },
      "cell_type": "code",
      "source": [
        "print(\"Original True  : {0} ({1:0.2f}%)\".format(len(df.loc[df['diabetes'] == 1]), (len(df.loc[df['diabetes'] == 1])/len(df.index)) * 100.0))\n",
        "print(\"Original False : {0} ({1:0.2f}%)\".format(len(df.loc[df['diabetes'] == 0]), (len(df.loc[df['diabetes'] == 0])/len(df.index)) * 100.0))\n",
        "print(\"\")\n",
        "print(\"Training True  : {0} ({1:0.2f}%)\".format(len(y_train[y_train[:] == 1]), (len(y_train[y_train[:] == 1])/len(y_train) * 100.0)))\n",
        "print(\"Training False : {0} ({1:0.2f}%)\".format(len(y_train[y_train[:] == 0]), (len(y_train[y_train[:] == 0])/len(y_train) * 100.0)))\n",
        "print(\"\")\n",
        "print(\"Test True      : {0} ({1:0.2f}%)\".format(len(y_test[y_test[:] == 1]), (len(y_test[y_test[:] == 1])/len(y_test) * 100.0)))\n",
        "print(\"Test False     : {0} ({1:0.2f}%)\".format(len(y_test[y_test[:] == 0]), (len(y_test[y_test[:] == 0])/len(y_test) * 100.0)))\n"
      ],
      "execution_count": 139,
      "outputs": [
        {
          "output_type": "stream",
          "text": [
            "Original True  : 268 (34.90%)\n",
            "Original False : 500 (65.10%)\n",
            "\n",
            "Training True  : 188 (35.01%)\n",
            "Training False : 349 (64.99%)\n",
            "\n",
            "Test True      : 80 (34.63%)\n",
            "Test False     : 151 (65.37%)\n"
          ],
          "name": "stdout"
        }
      ]
    },
    {
      "metadata": {
        "id": "ynswPG3Q0IKY",
        "colab_type": "text"
      },
      "cell_type": "markdown",
      "source": [
        "### Post-split Data Preparation"
      ]
    },
    {
      "metadata": {
        "id": "usSfu7rI0IKa",
        "colab_type": "text"
      },
      "cell_type": "markdown",
      "source": [
        "#### Hidden Missing Values"
      ]
    },
    {
      "metadata": {
        "id": "R-Gh5mcR0IKa",
        "colab_type": "code",
        "colab": {
          "base_uri": "https://localhost:8080/",
          "height": 204
        },
        "outputId": "d26604f0-94a4-4f02-dae7-815e81db96c7"
      },
      "cell_type": "code",
      "source": [
        "df.head()"
      ],
      "execution_count": 140,
      "outputs": [
        {
          "output_type": "execute_result",
          "data": {
            "text/html": [
              "<div>\n",
              "<style scoped>\n",
              "    .dataframe tbody tr th:only-of-type {\n",
              "        vertical-align: middle;\n",
              "    }\n",
              "\n",
              "    .dataframe tbody tr th {\n",
              "        vertical-align: top;\n",
              "    }\n",
              "\n",
              "    .dataframe thead th {\n",
              "        text-align: right;\n",
              "    }\n",
              "</style>\n",
              "<table border=\"1\" class=\"dataframe\">\n",
              "  <thead>\n",
              "    <tr style=\"text-align: right;\">\n",
              "      <th></th>\n",
              "      <th>num_preg</th>\n",
              "      <th>glucose_conc</th>\n",
              "      <th>diastolic_bp</th>\n",
              "      <th>thickness</th>\n",
              "      <th>insulin</th>\n",
              "      <th>bmi</th>\n",
              "      <th>diab_pred</th>\n",
              "      <th>age</th>\n",
              "      <th>diabetes</th>\n",
              "    </tr>\n",
              "  </thead>\n",
              "  <tbody>\n",
              "    <tr>\n",
              "      <th>0</th>\n",
              "      <td>6</td>\n",
              "      <td>148</td>\n",
              "      <td>72</td>\n",
              "      <td>35</td>\n",
              "      <td>0</td>\n",
              "      <td>33.6</td>\n",
              "      <td>0.627</td>\n",
              "      <td>50</td>\n",
              "      <td>1</td>\n",
              "    </tr>\n",
              "    <tr>\n",
              "      <th>1</th>\n",
              "      <td>1</td>\n",
              "      <td>85</td>\n",
              "      <td>66</td>\n",
              "      <td>29</td>\n",
              "      <td>0</td>\n",
              "      <td>26.6</td>\n",
              "      <td>0.351</td>\n",
              "      <td>31</td>\n",
              "      <td>0</td>\n",
              "    </tr>\n",
              "    <tr>\n",
              "      <th>2</th>\n",
              "      <td>8</td>\n",
              "      <td>183</td>\n",
              "      <td>64</td>\n",
              "      <td>0</td>\n",
              "      <td>0</td>\n",
              "      <td>23.3</td>\n",
              "      <td>0.672</td>\n",
              "      <td>32</td>\n",
              "      <td>1</td>\n",
              "    </tr>\n",
              "    <tr>\n",
              "      <th>3</th>\n",
              "      <td>1</td>\n",
              "      <td>89</td>\n",
              "      <td>66</td>\n",
              "      <td>23</td>\n",
              "      <td>94</td>\n",
              "      <td>28.1</td>\n",
              "      <td>0.167</td>\n",
              "      <td>21</td>\n",
              "      <td>0</td>\n",
              "    </tr>\n",
              "    <tr>\n",
              "      <th>4</th>\n",
              "      <td>0</td>\n",
              "      <td>137</td>\n",
              "      <td>40</td>\n",
              "      <td>35</td>\n",
              "      <td>168</td>\n",
              "      <td>43.1</td>\n",
              "      <td>2.288</td>\n",
              "      <td>33</td>\n",
              "      <td>1</td>\n",
              "    </tr>\n",
              "  </tbody>\n",
              "</table>\n",
              "</div>"
            ],
            "text/plain": [
              "   num_preg  glucose_conc  diastolic_bp  thickness  insulin   bmi  diab_pred  \\\n",
              "0         6           148            72         35        0  33.6      0.627   \n",
              "1         1            85            66         29        0  26.6      0.351   \n",
              "2         8           183            64          0        0  23.3      0.672   \n",
              "3         1            89            66         23       94  28.1      0.167   \n",
              "4         0           137            40         35      168  43.1      2.288   \n",
              "\n",
              "   age  diabetes  \n",
              "0   50         1  \n",
              "1   31         0  \n",
              "2   32         1  \n",
              "3   21         0  \n",
              "4   33         1  "
            ]
          },
          "metadata": {
            "tags": []
          },
          "execution_count": 140
        }
      ]
    },
    {
      "metadata": {
        "id": "9vP55frB0IKd",
        "colab_type": "text"
      },
      "cell_type": "markdown",
      "source": [
        "Notice the value 0 for the **thickness** on the row **2**, that is physically impossible, therefore that is a hidden missing value.\n",
        "\n",
        "Of those fields only the **insulin** column might have valid zero values. And even in this, zero is likely not correct.\n",
        "\n",
        "This seem like a missing data problem and can e overridden in 3 ways:\n",
        "\n",
        "\n",
        "*   Ignoring those values;\n",
        "*   Dropping the rows;\n",
        "*   Replacing the values.\n",
        "\n",
        "Of 768 rows, 374 are missing insulin values. This can't be ignored as it's almost 50% of data but at the same time those values will cause a bias.\n",
        "\n"
      ]
    },
    {
      "metadata": {
        "id": "cpkxhfL90IKe",
        "colab_type": "code",
        "colab": {
          "base_uri": "https://localhost:8080/",
          "height": 153
        },
        "outputId": "5e793322-0787-4811-b6f7-e12a2cc707af"
      },
      "cell_type": "code",
      "source": [
        "print(\"# rows in dataframe {0}\".format(len(df)))\n",
        "print(\"# rows missing glucose_conc: {0}\".format(len(df.loc[df['glucose_conc'] == 0])))\n",
        "print(\"# rows missing diastolic_bp: {0}\".format(len(df.loc[df['diastolic_bp'] == 0])))\n",
        "print(\"# rows missing thickness: {0}\".format(len(df.loc[df['thickness'] == 0])))\n",
        "print(\"# rows missing insulin: {0}\".format(len(df.loc[df['insulin'] == 0])))\n",
        "print(\"# rows missing bmi: {0}\".format(len(df.loc[df['bmi'] == 0])))\n",
        "print(\"# rows missing diab_pred: {0}\".format(len(df.loc[df['diab_pred'] == 0])))\n",
        "print(\"# rows missing age: {0}\".format(len(df.loc[df['age'] == 0])))"
      ],
      "execution_count": 141,
      "outputs": [
        {
          "output_type": "stream",
          "text": [
            "# rows in dataframe 768\n",
            "# rows missing glucose_conc: 5\n",
            "# rows missing diastolic_bp: 35\n",
            "# rows missing thickness: 227\n",
            "# rows missing insulin: 374\n",
            "# rows missing bmi: 11\n",
            "# rows missing diab_pred: 0\n",
            "# rows missing age: 0\n"
          ],
          "name": "stdout"
        }
      ]
    },
    {
      "metadata": {
        "id": "EsTHbVTL0IKi",
        "colab_type": "text"
      },
      "cell_type": "markdown",
      "source": [
        "#### Impute with the mean\n",
        "\n",
        "Imputing is the method to replace those **0** values in the **insulin** column.\n",
        "\n",
        "It will involve the creation of a new ***imputer*** object which will replace the missing values with the mean for all the values on the axis zero which is column.\n",
        "\n",
        "The **imputer fit_transform** function has been used to create a new NumPy array with any feature value of zero replaced by the mean for the column. This is applied to both training and test feature value separately as the values in the dataset are different."
      ]
    },
    {
      "metadata": {
        "id": "KJbYtHxW0IKj",
        "colab_type": "code",
        "colab": {}
      },
      "cell_type": "code",
      "source": [
        "from sklearn.preprocessing import Imputer\n",
        "\n",
        "#Impute with mean all 0 readings\n",
        "fill_0 = Imputer(missing_values=0, strategy=\"mean\", axis=0)\n",
        "\n",
        "X_train = fill_0.fit_transform(X_train)\n",
        "X_test = fill_0.fit_transform(X_test)"
      ],
      "execution_count": 0,
      "outputs": []
    },
    {
      "metadata": {
        "id": "choi5fs-0IKw",
        "colab_type": "text"
      },
      "cell_type": "markdown",
      "source": [
        "## Random Forest\n",
        "\n",
        "Random forests are an ensemble learning method for classification, regression and other tasks, that operate by constructing a multitude of decision trees at training time and outputting the class that is the mode of the classes (classification) or mean prediction (regression) of the individual trees.\n",
        "\n",
        "The process will involve to :\n",
        "\n",
        "\n",
        "1.   Import the model;\n",
        "2.   Train the model;\n",
        "3.   Check the accuracy on the training data;\n",
        "4.   Check the accuracy on the test data.\n",
        "\n"
      ]
    },
    {
      "metadata": {
        "id": "8rM19X8W0IKw",
        "colab_type": "code",
        "colab": {
          "base_uri": "https://localhost:8080/",
          "height": 119
        },
        "outputId": "0cb0b41f-2c90-4135-bfc7-3afe611e3010"
      },
      "cell_type": "code",
      "source": [
        "from sklearn.ensemble import RandomForestClassifier\n",
        "rf_model = RandomForestClassifier(random_state=42)      # Create random forest object\n",
        "rf_model.fit(X_train, y_train.ravel()) "
      ],
      "execution_count": 143,
      "outputs": [
        {
          "output_type": "execute_result",
          "data": {
            "text/plain": [
              "RandomForestClassifier(bootstrap=True, class_weight=None, criterion='gini',\n",
              "            max_depth=None, max_features='auto', max_leaf_nodes=None,\n",
              "            min_impurity_decrease=0.0, min_impurity_split=None,\n",
              "            min_samples_leaf=1, min_samples_split=2,\n",
              "            min_weight_fraction_leaf=0.0, n_estimators=10, n_jobs=1,\n",
              "            oob_score=False, random_state=42, verbose=0, warm_start=False)"
            ]
          },
          "metadata": {
            "tags": []
          },
          "execution_count": 143
        }
      ]
    },
    {
      "metadata": {
        "id": "Of_Goozm0IK1",
        "colab_type": "text"
      },
      "cell_type": "markdown",
      "source": [
        "### Predict Training Data"
      ]
    },
    {
      "metadata": {
        "id": "tuVKaNd80IK1",
        "colab_type": "code",
        "colab": {
          "base_uri": "https://localhost:8080/",
          "height": 34
        },
        "outputId": "37571a25-0b37-463f-926a-3cbc7326b311"
      },
      "cell_type": "code",
      "source": [
        "rf_predict_train = rf_model.predict(X_train)\n",
        "# training metrics\n",
        "print(\"Accuracy: {0:.4f}\".format(metrics.accuracy_score(y_train, rf_predict_train)))"
      ],
      "execution_count": 144,
      "outputs": [
        {
          "output_type": "stream",
          "text": [
            "Accuracy: 0.9870\n"
          ],
          "name": "stdout"
        }
      ]
    },
    {
      "metadata": {
        "id": "E9FbYcan0IK4",
        "colab_type": "text"
      },
      "cell_type": "markdown",
      "source": [
        "### Predict Test Data"
      ]
    },
    {
      "metadata": {
        "id": "3VHcxEH60IK4",
        "colab_type": "code",
        "colab": {
          "base_uri": "https://localhost:8080/",
          "height": 34
        },
        "outputId": "3cce31ad-e496-40f9-a5ce-45aa65dedce1"
      },
      "cell_type": "code",
      "source": [
        "rf_predict_test = rf_model.predict(X_test)\n",
        "\n",
        "# training metrics\n",
        "print(\"Accuracy: {0:.4f}\".format(metrics.accuracy_score(y_test, rf_predict_test)))"
      ],
      "execution_count": 145,
      "outputs": [
        {
          "output_type": "stream",
          "text": [
            "Accuracy: 0.7100\n"
          ],
          "name": "stdout"
        }
      ]
    },
    {
      "metadata": {
        "id": "8fWxuYJWqS4r",
        "colab_type": "text"
      },
      "cell_type": "markdown",
      "source": [
        "The accuracy of the training data is great, on the other side the accuracy of the test data looks very poor compared to the first one.\n",
        "This happens because the **Random forest** model is overfitting the training data, the model has learned the training data too well. The overfitting could be handled with special tuning parameters called ***Regularisation hyperparameters*** or through the **cross validation**.\n",
        "\n",
        "The **cross validation** uses multiple subsets of the training data during the training process.\n",
        "\n",
        "\n",
        "In the matrix below the values are stored in the following way:\n",
        "\n",
        "*   Top left = True Negative\n",
        "*   Top right  = False Positive (in a perfect classifier it would be 0)\n",
        "*   Bottom left = False Negative (in a perfect classifier it would be 0)\n",
        "*   Bottom right = True Positive\n",
        "\n",
        "The **recall** column (true positive rate and sensitivity) looks pretty poor as it returns only 54% . It should show how well the model is predicting the diabetes when the result is actually diabetes.\n",
        "\n"
      ]
    },
    {
      "metadata": {
        "id": "rVU5HfSe0IK6",
        "colab_type": "code",
        "colab": {
          "base_uri": "https://localhost:8080/",
          "height": 204
        },
        "outputId": "a82bd8aa-fc46-4252-97c4-9b4f4771becf"
      },
      "cell_type": "code",
      "source": [
        "print(metrics.confusion_matrix(y_test, rf_predict_test) )\n",
        "print(\"\")\n",
        "print(\"Classification Report\")\n",
        "print(metrics.classification_report(y_test, rf_predict_test))"
      ],
      "execution_count": 146,
      "outputs": [
        {
          "output_type": "stream",
          "text": [
            "[[121  30]\n",
            " [ 37  43]]\n",
            "\n",
            "Classification Report\n",
            "             precision    recall  f1-score   support\n",
            "\n",
            "          0       0.77      0.80      0.78       151\n",
            "          1       0.59      0.54      0.56        80\n",
            "\n",
            "avg / total       0.70      0.71      0.71       231\n",
            "\n"
          ],
          "name": "stdout"
        }
      ]
    },
    {
      "metadata": {
        "id": "_qnR38_I0IK9",
        "colab_type": "text"
      },
      "cell_type": "markdown",
      "source": [
        "## Logistic Regression\n",
        "\n",
        "The other model taken in consideration is the **logistic regression** that despite the name is a classification algorithm.\n",
        "\n",
        "As done in the previous model the algorithm will be trained and the results will be evaluated."
      ]
    },
    {
      "metadata": {
        "id": "fwihV-Du0IK9",
        "colab_type": "code",
        "colab": {
          "base_uri": "https://localhost:8080/",
          "height": 221
        },
        "outputId": "a4558e46-9819-472e-bf9e-0abff5e28e0a"
      },
      "cell_type": "code",
      "source": [
        "from sklearn.linear_model import LogisticRegression\n",
        "\n",
        "lr_model =LogisticRegression(C=0.7, random_state=42)\n",
        "lr_model.fit(X_train, y_train.ravel())\n",
        "lr_predict_test = lr_model.predict(X_test)\n",
        "\n",
        "# training metrics\n",
        "print(\"Accuracy: {0:.4f}\".format(metrics.accuracy_score(y_test, lr_predict_test)))\n",
        "print(metrics.confusion_matrix(y_test, lr_predict_test) )\n",
        "print(\"\")\n",
        "print(\"Classification Report\")\n",
        "print(metrics.classification_report(y_test, lr_predict_test))"
      ],
      "execution_count": 147,
      "outputs": [
        {
          "output_type": "stream",
          "text": [
            "Accuracy: 0.7446\n",
            "[[128  23]\n",
            " [ 36  44]]\n",
            "\n",
            "Classification Report\n",
            "             precision    recall  f1-score   support\n",
            "\n",
            "          0       0.78      0.85      0.81       151\n",
            "          1       0.66      0.55      0.60        80\n",
            "\n",
            "avg / total       0.74      0.74      0.74       231\n",
            "\n"
          ],
          "name": "stdout"
        }
      ]
    },
    {
      "metadata": {
        "id": "XmUHhEKMtvvH",
        "colab_type": "text"
      },
      "cell_type": "markdown",
      "source": [
        "The accuracy in this case looks promising, 74%, but the recall is still low, 55%."
      ]
    },
    {
      "metadata": {
        "id": "0gZPD49i0ILA",
        "colab_type": "text"
      },
      "cell_type": "markdown",
      "source": [
        "Setting regularization parameter to try to retun a higher recall.\n",
        "\n",
        "The while loop will try C values from zero to 4.9 in increments of 0.1. \n",
        "\n",
        "For each C value, its LogisticRegression object is created and trained with the training data, and then used to predict the test results. Each test recall score is computed and the highest recall score is recorded.\n",
        "That score is used to get the C value that produced the highest recall score.\n",
        "The recall scores have been plotted versus regularisation value so that an idea of how recall changes with different regularization values can be achieved."
      ]
    },
    {
      "metadata": {
        "id": "FyojyWK-0ILB",
        "colab_type": "code",
        "colab": {
          "base_uri": "https://localhost:8080/",
          "height": 317
        },
        "outputId": "ac2e3580-cbb2-4a71-a2d4-735697db75ea"
      },
      "cell_type": "code",
      "source": [
        "C_start = 0.1\n",
        "C_end = 5\n",
        "C_inc = 0.1\n",
        "\n",
        "C_values, recall_scores = [], []\n",
        "\n",
        "C_val = C_start\n",
        "best_recall_score = 0\n",
        "while (C_val < C_end):\n",
        "    C_values.append(C_val)\n",
        "    lr_model_loop = LogisticRegression(C=C_val, random_state=42)\n",
        "    lr_model_loop.fit(X_train, y_train.ravel())\n",
        "    lr_predict_loop_test = lr_model_loop.predict(X_test)\n",
        "    recall_score = metrics.recall_score(y_test, lr_predict_loop_test)\n",
        "    recall_scores.append(recall_score)\n",
        "    if (recall_score > best_recall_score):\n",
        "        best_recall_score = recall_score\n",
        "        best_lr_predict_test = lr_predict_loop_test\n",
        "        \n",
        "    C_val = C_val + C_inc\n",
        "\n",
        "best_score_C_val = C_values[recall_scores.index(best_recall_score)]\n",
        "print(\"1st max value of {0:.3f} occured at C={1:.3f}\".format(best_recall_score, best_score_C_val))\n",
        "\n",
        "%matplotlib inline \n",
        "plt.plot(C_values, recall_scores, \"-\")\n",
        "plt.xlabel(\"C value\")\n",
        "plt.ylabel(\"recall score\")\n"
      ],
      "execution_count": 148,
      "outputs": [
        {
          "output_type": "stream",
          "text": [
            "1st max value of 0.613 occured at C=1.400\n"
          ],
          "name": "stdout"
        },
        {
          "output_type": "execute_result",
          "data": {
            "text/plain": [
              "Text(0,0.5,'recall score')"
            ]
          },
          "metadata": {
            "tags": []
          },
          "execution_count": 148
        },
        {
          "output_type": "display_data",
          "data": {
            "image/png": "[encoded data removed]",
            "text/plain": [
              "<matplotlib.figure.Figure at 0x7fb12ff10cc0>"
            ]
          },
          "metadata": {
            "tags": []
          }
        }
      ]
    },
    {
      "metadata": {
        "id": "VHRoTDa2vEJ0",
        "colab_type": "text"
      },
      "cell_type": "markdown",
      "source": [
        "The recall value is still far from 70%, it's 61% .\n",
        "\n",
        "The issue could be cause by the nature of the dataset that had more non-diabetes results than diabetes results. This is an unbalance between those 2 classes.\n",
        "\n",
        "To avoid this the ***class_weight=\"balanced\"*** will be passed as hyperparameter in the loop to find the best value of C."
      ]
    },
    {
      "metadata": {
        "id": "DQP_GoYM0ILD",
        "colab_type": "text"
      },
      "cell_type": "markdown",
      "source": [
        "### Logisitic regression with class_weight='balanced'"
      ]
    },
    {
      "metadata": {
        "id": "ksPtHd_00ILE",
        "colab_type": "code",
        "colab": {
          "base_uri": "https://localhost:8080/",
          "height": 315
        },
        "outputId": "49339a63-147f-4e5f-b4ba-7383038de120"
      },
      "cell_type": "code",
      "source": [
        "C_start = 0.1\n",
        "C_end = 5\n",
        "C_inc = 0.1\n",
        "\n",
        "C_values, recall_scores = [], []\n",
        "\n",
        "C_val = C_start\n",
        "best_recall_score = 0\n",
        "while (C_val < C_end):\n",
        "    C_values.append(C_val)\n",
        "    lr_model_loop = LogisticRegression(C=C_val, class_weight=\"balanced\", random_state=42)\n",
        "    lr_model_loop.fit(X_train, y_train.ravel())\n",
        "    lr_predict_loop_test = lr_model_loop.predict(X_test)\n",
        "    recall_score = metrics.recall_score(y_test, lr_predict_loop_test)\n",
        "    recall_scores.append(recall_score)\n",
        "    if (recall_score > best_recall_score):\n",
        "        best_recall_score = recall_score\n",
        "        best_lr_predict_test = lr_predict_loop_test\n",
        "        \n",
        "    C_val = C_val + C_inc\n",
        "\n",
        "best_score_C_val = C_values[recall_scores.index(best_recall_score)]\n",
        "print(\"1st max value of {0:.3f} occured at C={1:.3f}\".format(best_recall_score, best_score_C_val))\n",
        "\n",
        "%matplotlib inline \n",
        "plt.plot(C_values, recall_scores, \"-\")\n",
        "plt.xlabel(\"C value\")\n",
        "plt.ylabel(\"recall score\")"
      ],
      "execution_count": 149,
      "outputs": [
        {
          "output_type": "stream",
          "text": [
            "1st max value of 0.738 occured at C=0.300\n"
          ],
          "name": "stdout"
        },
        {
          "output_type": "execute_result",
          "data": {
            "text/plain": [
              "Text(0,0.5,'recall score')"
            ]
          },
          "metadata": {
            "tags": []
          },
          "execution_count": 149
        },
        {
          "output_type": "display_data",
          "data": {
            "image/png": "[encoded data removed]",
            "text/plain": [
              "<matplotlib.figure.Figure at 0x7fb12fe3f898>"
            ]
          },
          "metadata": {
            "tags": []
          }
        }
      ]
    },
    {
      "metadata": {
        "id": "CoDA_Domv6PW",
        "colab_type": "text"
      },
      "cell_type": "markdown",
      "source": [
        "The **LogisticRegression** will be performed now adding the C value to the best one from the loop above and the class balance hyperparameter will be included as well."
      ]
    },
    {
      "metadata": {
        "id": "c33hCjfr0ILH",
        "colab_type": "code",
        "colab": {
          "base_uri": "https://localhost:8080/",
          "height": 238
        },
        "outputId": "75d97d67-2290-4982-9d8c-83f1984e2007"
      },
      "cell_type": "code",
      "source": [
        "from sklearn.linear_model import LogisticRegression\n",
        "lr_model =LogisticRegression( class_weight=\"balanced\", C=best_score_C_val, random_state=42)\n",
        "lr_model.fit(X_train, y_train.ravel())\n",
        "lr_predict_test = lr_model.predict(X_test)\n",
        "\n",
        "# training metrics\n",
        "print(\"Accuracy: {0:.4f}\".format(metrics.accuracy_score(y_test, lr_predict_test)))\n",
        "print(metrics.confusion_matrix(y_test, lr_predict_test) )\n",
        "print(\"\")\n",
        "print(\"Classification Report\")\n",
        "print(metrics.classification_report(y_test, lr_predict_test))\n",
        "print(metrics.recall_score(y_test, lr_predict_test))"
      ],
      "execution_count": 150,
      "outputs": [
        {
          "output_type": "stream",
          "text": [
            "Accuracy: 0.7143\n",
            "[[106  45]\n",
            " [ 21  59]]\n",
            "\n",
            "Classification Report\n",
            "             precision    recall  f1-score   support\n",
            "\n",
            "          0       0.83      0.70      0.76       151\n",
            "          1       0.57      0.74      0.64        80\n",
            "\n",
            "avg / total       0.74      0.71      0.72       231\n",
            "\n",
            "0.7375\n"
          ],
          "name": "stdout"
        }
      ]
    },
    {
      "metadata": {
        "id": "73ZqwTWAwN0w",
        "colab_type": "text"
      },
      "cell_type": "markdown",
      "source": [
        "The accuracy is now 71% and the recall is 74% !\n"
      ]
    },
    {
      "metadata": {
        "id": "YDo68xtO0ILK",
        "colab_type": "text"
      },
      "cell_type": "markdown",
      "source": [
        "### LogisticRegressionCV\n",
        "\n",
        "The **LogisticRegression** function will be now used together with the **cross validation** method to check if it will improve the results.\n",
        "\n"
      ]
    },
    {
      "metadata": {
        "id": "IJzHyp_10ILK",
        "colab_type": "code",
        "colab": {
          "base_uri": "https://localhost:8080/",
          "height": 102
        },
        "outputId": "8009a227-f815-48d4-ed12-cc9d75f538ae"
      },
      "cell_type": "code",
      "source": [
        "from sklearn.linear_model import LogisticRegressionCV\n",
        "lr_cv_model = LogisticRegressionCV(n_jobs=-1, random_state=42, Cs=3, cv=10, refit=False, class_weight=\"balanced\")  # set number of jobs to -1 which uses all cores to parallelize\n",
        "lr_cv_model.fit(X_train, y_train.ravel())"
      ],
      "execution_count": 151,
      "outputs": [
        {
          "output_type": "execute_result",
          "data": {
            "text/plain": [
              "LogisticRegressionCV(Cs=3, class_weight='balanced', cv=10, dual=False,\n",
              "           fit_intercept=True, intercept_scaling=1.0, max_iter=100,\n",
              "           multi_class='ovr', n_jobs=-1, penalty='l2', random_state=42,\n",
              "           refit=False, scoring=None, solver='lbfgs', tol=0.0001,\n",
              "           verbose=0)"
            ]
          },
          "metadata": {
            "tags": []
          },
          "execution_count": 151
        }
      ]
    },
    {
      "metadata": {
        "id": "0FcVig67xCN0",
        "colab_type": "text"
      },
      "cell_type": "markdown",
      "source": [
        "The recall score is not quite what has been achieved in the previous run by tuning the score against the test data, but by using cross validation  it's more likely to score better on real-world data.\n",
        "\n",
        "Also with this ensemble algorithms there are a lot of parameters that can be adjusted and implementing them might boost the score results."
      ]
    },
    {
      "metadata": {
        "id": "Vm86X5-K0ILN",
        "colab_type": "text"
      },
      "cell_type": "markdown",
      "source": [
        "### Predict on Test data"
      ]
    },
    {
      "metadata": {
        "id": "LZqx0NEO0ILO",
        "colab_type": "code",
        "colab": {
          "base_uri": "https://localhost:8080/",
          "height": 221
        },
        "outputId": "d2f9994d-ce1d-40bf-c9c5-7ee3cafe3e3a"
      },
      "cell_type": "code",
      "source": [
        "lr_cv_predict_test = lr_cv_model.predict(X_test)\n",
        "\n",
        "# training metrics\n",
        "print(\"Accuracy: {0:.4f}\".format(metrics.accuracy_score(y_test, lr_cv_predict_test)))\n",
        "print(metrics.confusion_matrix(y_test, lr_cv_predict_test) )\n",
        "print(\"\")\n",
        "print(\"Classification Report\")\n",
        "print(metrics.classification_report(y_test, lr_cv_predict_test))"
      ],
      "execution_count": 152,
      "outputs": [
        {
          "output_type": "stream",
          "text": [
            "Accuracy: 0.7013\n",
            "[[108  43]\n",
            " [ 26  54]]\n",
            "\n",
            "Classification Report\n",
            "             precision    recall  f1-score   support\n",
            "\n",
            "          0       0.81      0.72      0.76       151\n",
            "          1       0.56      0.68      0.61        80\n",
            "\n",
            "avg / total       0.72      0.70      0.71       231\n",
            "\n"
          ],
          "name": "stdout"
        }
      ]
    },
    {
      "metadata": {
        "id": "L12IDSHHSmY8",
        "colab_type": "text"
      },
      "cell_type": "markdown",
      "source": [
        "**CLUSTERING ALGORITHM**\n",
        "\n",
        "The **diabetes** column values will be converted from categorical variables into numeric form using the Label Encoder"
      ]
    },
    {
      "metadata": {
        "id": "oKeH7P0F0ILP",
        "colab_type": "code",
        "colab": {
          "base_uri": "https://localhost:8080/",
          "height": 204
        },
        "outputId": "b9576667-8da2-40ec-98bd-b5d709f0cc3c"
      },
      "cell_type": "code",
      "source": [
        "from sklearn import preprocessing\n",
        "\n",
        "le = preprocessing.LabelEncoder()\n",
        "df['diabetes'] = le.fit_transform(df['diabetes'].astype(str))\n",
        "df.head()"
      ],
      "execution_count": 153,
      "outputs": [
        {
          "output_type": "execute_result",
          "data": {
            "text/html": [
              "<div>\n",
              "<style scoped>\n",
              "    .dataframe tbody tr th:only-of-type {\n",
              "        vertical-align: middle;\n",
              "    }\n",
              "\n",
              "    .dataframe tbody tr th {\n",
              "        vertical-align: top;\n",
              "    }\n",
              "\n",
              "    .dataframe thead th {\n",
              "        text-align: right;\n",
              "    }\n",
              "</style>\n",
              "<table border=\"1\" class=\"dataframe\">\n",
              "  <thead>\n",
              "    <tr style=\"text-align: right;\">\n",
              "      <th></th>\n",
              "      <th>num_preg</th>\n",
              "      <th>glucose_conc</th>\n",
              "      <th>diastolic_bp</th>\n",
              "      <th>thickness</th>\n",
              "      <th>insulin</th>\n",
              "      <th>bmi</th>\n",
              "      <th>diab_pred</th>\n",
              "      <th>age</th>\n",
              "      <th>diabetes</th>\n",
              "    </tr>\n",
              "  </thead>\n",
              "  <tbody>\n",
              "    <tr>\n",
              "      <th>0</th>\n",
              "      <td>6</td>\n",
              "      <td>148</td>\n",
              "      <td>72</td>\n",
              "      <td>35</td>\n",
              "      <td>0</td>\n",
              "      <td>33.6</td>\n",
              "      <td>0.627</td>\n",
              "      <td>50</td>\n",
              "      <td>1</td>\n",
              "    </tr>\n",
              "    <tr>\n",
              "      <th>1</th>\n",
              "      <td>1</td>\n",
              "      <td>85</td>\n",
              "      <td>66</td>\n",
              "      <td>29</td>\n",
              "      <td>0</td>\n",
              "      <td>26.6</td>\n",
              "      <td>0.351</td>\n",
              "      <td>31</td>\n",
              "      <td>0</td>\n",
              "    </tr>\n",
              "    <tr>\n",
              "      <th>2</th>\n",
              "      <td>8</td>\n",
              "      <td>183</td>\n",
              "      <td>64</td>\n",
              "      <td>0</td>\n",
              "      <td>0</td>\n",
              "      <td>23.3</td>\n",
              "      <td>0.672</td>\n",
              "      <td>32</td>\n",
              "      <td>1</td>\n",
              "    </tr>\n",
              "    <tr>\n",
              "      <th>3</th>\n",
              "      <td>1</td>\n",
              "      <td>89</td>\n",
              "      <td>66</td>\n",
              "      <td>23</td>\n",
              "      <td>94</td>\n",
              "      <td>28.1</td>\n",
              "      <td>0.167</td>\n",
              "      <td>21</td>\n",
              "      <td>0</td>\n",
              "    </tr>\n",
              "    <tr>\n",
              "      <th>4</th>\n",
              "      <td>0</td>\n",
              "      <td>137</td>\n",
              "      <td>40</td>\n",
              "      <td>35</td>\n",
              "      <td>168</td>\n",
              "      <td>43.1</td>\n",
              "      <td>2.288</td>\n",
              "      <td>33</td>\n",
              "      <td>1</td>\n",
              "    </tr>\n",
              "  </tbody>\n",
              "</table>\n",
              "</div>"
            ],
            "text/plain": [
              "   num_preg  glucose_conc  diastolic_bp  thickness  insulin   bmi  diab_pred  \\\n",
              "0         6           148            72         35        0  33.6      0.627   \n",
              "1         1            85            66         29        0  26.6      0.351   \n",
              "2         8           183            64          0        0  23.3      0.672   \n",
              "3         1            89            66         23       94  28.1      0.167   \n",
              "4         0           137            40         35      168  43.1      2.288   \n",
              "\n",
              "   age  diabetes  \n",
              "0   50         1  \n",
              "1   31         0  \n",
              "2   32         1  \n",
              "3   21         0  \n",
              "4   33         1  "
            ]
          },
          "metadata": {
            "tags": []
          },
          "execution_count": 153
        }
      ]
    },
    {
      "metadata": {
        "id": "l-fsjnKcz00k",
        "colab_type": "text"
      },
      "cell_type": "markdown",
      "source": [
        "The estimator for the clustering algorithm is being setup here and the only hyperparameter that needs to be passed in is the **bandwidth**.\n",
        "Smaller values of bandwidth will result in tall, skinny kernels, while larger values of bandwidth will result in short and fat kernels."
      ]
    },
    {
      "metadata": {
        "id": "9gmOiRAoOWpb",
        "colab_type": "code",
        "colab": {
          "base_uri": "https://localhost:8080/",
          "height": 51
        },
        "outputId": "3092b593-3ab7-48e3-9583-35fa15177a6e"
      },
      "cell_type": "code",
      "source": [
        "from sklearn.cluster import MeanShift\n",
        "\n",
        "analyzer = MeanShift(bandwidth = 90)\n",
        "analyzer.fit(df)"
      ],
      "execution_count": 155,
      "outputs": [
        {
          "output_type": "execute_result",
          "data": {
            "text/plain": [
              "MeanShift(bandwidth=90, bin_seeding=False, cluster_all=True, min_bin_freq=1,\n",
              "     n_jobs=1, seeds=None)"
            ]
          },
          "metadata": {
            "tags": []
          },
          "execution_count": 155
        }
      ]
    },
    {
      "metadata": {
        "id": "vg7P1wCX0hY8",
        "colab_type": "text"
      },
      "cell_type": "markdown",
      "source": [
        "The **estimate_bandwidth** is a helper function to help estimate a good value for the bandwidth based on the data."
      ]
    },
    {
      "metadata": {
        "id": "-UCHOCCYOoyN",
        "colab_type": "code",
        "colab": {
          "base_uri": "https://localhost:8080/",
          "height": 34
        },
        "outputId": "7df03215-d7bf-436a-b150-cb23afed4601"
      },
      "cell_type": "code",
      "source": [
        "from sklearn.cluster import estimate_bandwidth\n",
        "estimate_bandwidth(df)"
      ],
      "execution_count": 156,
      "outputs": [
        {
          "output_type": "execute_result",
          "data": {
            "text/plain": [
              "88.16372168931862"
            ]
          },
          "metadata": {
            "tags": []
          },
          "execution_count": 156
        }
      ]
    },
    {
      "metadata": {
        "id": "-CTpOX3lO19I",
        "colab_type": "code",
        "colab": {}
      },
      "cell_type": "code",
      "source": [
        "labels = analyzer.labels_"
      ],
      "execution_count": 0,
      "outputs": []
    },
    {
      "metadata": {
        "id": "vynP-bfAO9lA",
        "colab_type": "code",
        "colab": {
          "base_uri": "https://localhost:8080/",
          "height": 34
        },
        "outputId": "f3b3a451-adf7-4286-fca3-7e9823899f73"
      },
      "cell_type": "code",
      "source": [
        "import numpy as np\n",
        "\n",
        "np.unique(labels)"
      ],
      "execution_count": 158,
      "outputs": [
        {
          "output_type": "execute_result",
          "data": {
            "text/plain": [
              "array([0, 1, 2, 3])"
            ]
          },
          "metadata": {
            "tags": []
          },
          "execution_count": 158
        }
      ]
    },
    {
      "metadata": {
        "id": "i6x7R3U_1JV3",
        "colab_type": "text"
      },
      "cell_type": "markdown",
      "source": [
        "Above can be seen that a bandwidth of 90 produces 4 clusters. Each of this groups will contain persons with similar characteristics.\n",
        "\n",
        "A new column called **cluster_group** will be added to store information about what cluster each person belongs to."
      ]
    },
    {
      "metadata": {
        "id": "MopufTRcPJr3",
        "colab_type": "code",
        "colab": {}
      },
      "cell_type": "code",
      "source": [
        "import numpy as np\n",
        "\n",
        "df['cluster_group'] = np.nan\n",
        "data_length = len(df)\n",
        "for i in range(data_length):\n",
        "  df.iloc[i, df.columns.get_loc('cluster_group')] = labels[i]"
      ],
      "execution_count": 0,
      "outputs": []
    },
    {
      "metadata": {
        "id": "KFWMF7Xh1vRd",
        "colab_type": "text"
      },
      "cell_type": "markdown",
      "source": [
        "Checking if the new column has been added at the end of the dataframe."
      ]
    },
    {
      "metadata": {
        "id": "KIZ-eiunPdjd",
        "colab_type": "code",
        "colab": {
          "base_uri": "https://localhost:8080/",
          "height": 204
        },
        "outputId": "09c3e5c2-c22a-46cb-a017-5bc7db487ddb"
      },
      "cell_type": "code",
      "source": [
        "df.head()"
      ],
      "execution_count": 160,
      "outputs": [
        {
          "output_type": "execute_result",
          "data": {
            "text/html": [
              "<div>\n",
              "<style scoped>\n",
              "    .dataframe tbody tr th:only-of-type {\n",
              "        vertical-align: middle;\n",
              "    }\n",
              "\n",
              "    .dataframe tbody tr th {\n",
              "        vertical-align: top;\n",
              "    }\n",
              "\n",
              "    .dataframe thead th {\n",
              "        text-align: right;\n",
              "    }\n",
              "</style>\n",
              "<table border=\"1\" class=\"dataframe\">\n",
              "  <thead>\n",
              "    <tr style=\"text-align: right;\">\n",
              "      <th></th>\n",
              "      <th>num_preg</th>\n",
              "      <th>glucose_conc</th>\n",
              "      <th>diastolic_bp</th>\n",
              "      <th>thickness</th>\n",
              "      <th>insulin</th>\n",
              "      <th>bmi</th>\n",
              "      <th>diab_pred</th>\n",
              "      <th>age</th>\n",
              "      <th>diabetes</th>\n",
              "      <th>cluster_group</th>\n",
              "    </tr>\n",
              "  </thead>\n",
              "  <tbody>\n",
              "    <tr>\n",
              "      <th>0</th>\n",
              "      <td>6</td>\n",
              "      <td>148</td>\n",
              "      <td>72</td>\n",
              "      <td>35</td>\n",
              "      <td>0</td>\n",
              "      <td>33.6</td>\n",
              "      <td>0.627</td>\n",
              "      <td>50</td>\n",
              "      <td>1</td>\n",
              "      <td>0.0</td>\n",
              "    </tr>\n",
              "    <tr>\n",
              "      <th>1</th>\n",
              "      <td>1</td>\n",
              "      <td>85</td>\n",
              "      <td>66</td>\n",
              "      <td>29</td>\n",
              "      <td>0</td>\n",
              "      <td>26.6</td>\n",
              "      <td>0.351</td>\n",
              "      <td>31</td>\n",
              "      <td>0</td>\n",
              "      <td>0.0</td>\n",
              "    </tr>\n",
              "    <tr>\n",
              "      <th>2</th>\n",
              "      <td>8</td>\n",
              "      <td>183</td>\n",
              "      <td>64</td>\n",
              "      <td>0</td>\n",
              "      <td>0</td>\n",
              "      <td>23.3</td>\n",
              "      <td>0.672</td>\n",
              "      <td>32</td>\n",
              "      <td>1</td>\n",
              "      <td>0.0</td>\n",
              "    </tr>\n",
              "    <tr>\n",
              "      <th>3</th>\n",
              "      <td>1</td>\n",
              "      <td>89</td>\n",
              "      <td>66</td>\n",
              "      <td>23</td>\n",
              "      <td>94</td>\n",
              "      <td>28.1</td>\n",
              "      <td>0.167</td>\n",
              "      <td>21</td>\n",
              "      <td>0</td>\n",
              "      <td>0.0</td>\n",
              "    </tr>\n",
              "    <tr>\n",
              "      <th>4</th>\n",
              "      <td>0</td>\n",
              "      <td>137</td>\n",
              "      <td>40</td>\n",
              "      <td>35</td>\n",
              "      <td>168</td>\n",
              "      <td>43.1</td>\n",
              "      <td>2.288</td>\n",
              "      <td>33</td>\n",
              "      <td>1</td>\n",
              "      <td>0.0</td>\n",
              "    </tr>\n",
              "  </tbody>\n",
              "</table>\n",
              "</div>"
            ],
            "text/plain": [
              "   num_preg  glucose_conc  diastolic_bp  thickness  insulin   bmi  diab_pred  \\\n",
              "0         6           148            72         35        0  33.6      0.627   \n",
              "1         1            85            66         29        0  26.6      0.351   \n",
              "2         8           183            64          0        0  23.3      0.672   \n",
              "3         1            89            66         23       94  28.1      0.167   \n",
              "4         0           137            40         35      168  43.1      2.288   \n",
              "\n",
              "   age  diabetes  cluster_group  \n",
              "0   50         1            0.0  \n",
              "1   31         0            0.0  \n",
              "2   32         1            0.0  \n",
              "3   21         0            0.0  \n",
              "4   33         1            0.0  "
            ]
          },
          "metadata": {
            "tags": []
          },
          "execution_count": 160
        }
      ]
    },
    {
      "metadata": {
        "id": "u1sTvyEM12Dp",
        "colab_type": "text"
      },
      "cell_type": "markdown",
      "source": [
        "The describe function will display the information about the entire dataset. "
      ]
    },
    {
      "metadata": {
        "id": "8xXpC33ZPizq",
        "colab_type": "code",
        "colab": {
          "base_uri": "https://localhost:8080/",
          "height": 297
        },
        "outputId": "cc526bb0-6531-432f-a400-d63230f12280"
      },
      "cell_type": "code",
      "source": [
        "df.describe()"
      ],
      "execution_count": 161,
      "outputs": [
        {
          "output_type": "execute_result",
          "data": {
            "text/html": [
              "<div>\n",
              "<style scoped>\n",
              "    .dataframe tbody tr th:only-of-type {\n",
              "        vertical-align: middle;\n",
              "    }\n",
              "\n",
              "    .dataframe tbody tr th {\n",
              "        vertical-align: top;\n",
              "    }\n",
              "\n",
              "    .dataframe thead th {\n",
              "        text-align: right;\n",
              "    }\n",
              "</style>\n",
              "<table border=\"1\" class=\"dataframe\">\n",
              "  <thead>\n",
              "    <tr style=\"text-align: right;\">\n",
              "      <th></th>\n",
              "      <th>num_preg</th>\n",
              "      <th>glucose_conc</th>\n",
              "      <th>diastolic_bp</th>\n",
              "      <th>thickness</th>\n",
              "      <th>insulin</th>\n",
              "      <th>bmi</th>\n",
              "      <th>diab_pred</th>\n",
              "      <th>age</th>\n",
              "      <th>diabetes</th>\n",
              "      <th>cluster_group</th>\n",
              "    </tr>\n",
              "  </thead>\n",
              "  <tbody>\n",
              "    <tr>\n",
              "      <th>count</th>\n",
              "      <td>768.000000</td>\n",
              "      <td>768.000000</td>\n",
              "      <td>768.000000</td>\n",
              "      <td>768.000000</td>\n",
              "      <td>768.000000</td>\n",
              "      <td>768.000000</td>\n",
              "      <td>768.000000</td>\n",
              "      <td>768.000000</td>\n",
              "      <td>768.000000</td>\n",
              "      <td>768.000000</td>\n",
              "    </tr>\n",
              "    <tr>\n",
              "      <th>mean</th>\n",
              "      <td>3.845052</td>\n",
              "      <td>120.894531</td>\n",
              "      <td>69.105469</td>\n",
              "      <td>20.536458</td>\n",
              "      <td>79.799479</td>\n",
              "      <td>31.992578</td>\n",
              "      <td>0.471876</td>\n",
              "      <td>33.240885</td>\n",
              "      <td>0.348958</td>\n",
              "      <td>0.083333</td>\n",
              "    </tr>\n",
              "    <tr>\n",
              "      <th>std</th>\n",
              "      <td>3.369578</td>\n",
              "      <td>31.972618</td>\n",
              "      <td>19.355807</td>\n",
              "      <td>15.952218</td>\n",
              "      <td>115.244002</td>\n",
              "      <td>7.884160</td>\n",
              "      <td>0.331329</td>\n",
              "      <td>11.760232</td>\n",
              "      <td>0.476951</td>\n",
              "      <td>0.303536</td>\n",
              "    </tr>\n",
              "    <tr>\n",
              "      <th>min</th>\n",
              "      <td>0.000000</td>\n",
              "      <td>0.000000</td>\n",
              "      <td>0.000000</td>\n",
              "      <td>0.000000</td>\n",
              "      <td>0.000000</td>\n",
              "      <td>0.000000</td>\n",
              "      <td>0.078000</td>\n",
              "      <td>21.000000</td>\n",
              "      <td>0.000000</td>\n",
              "      <td>0.000000</td>\n",
              "    </tr>\n",
              "    <tr>\n",
              "      <th>25%</th>\n",
              "      <td>1.000000</td>\n",
              "      <td>99.000000</td>\n",
              "      <td>62.000000</td>\n",
              "      <td>0.000000</td>\n",
              "      <td>0.000000</td>\n",
              "      <td>27.300000</td>\n",
              "      <td>0.243750</td>\n",
              "      <td>24.000000</td>\n",
              "      <td>0.000000</td>\n",
              "      <td>0.000000</td>\n",
              "    </tr>\n",
              "    <tr>\n",
              "      <th>50%</th>\n",
              "      <td>3.000000</td>\n",
              "      <td>117.000000</td>\n",
              "      <td>72.000000</td>\n",
              "      <td>23.000000</td>\n",
              "      <td>30.500000</td>\n",
              "      <td>32.000000</td>\n",
              "      <td>0.372500</td>\n",
              "      <td>29.000000</td>\n",
              "      <td>0.000000</td>\n",
              "      <td>0.000000</td>\n",
              "    </tr>\n",
              "    <tr>\n",
              "      <th>75%</th>\n",
              "      <td>6.000000</td>\n",
              "      <td>140.250000</td>\n",
              "      <td>80.000000</td>\n",
              "      <td>32.000000</td>\n",
              "      <td>127.250000</td>\n",
              "      <td>36.600000</td>\n",
              "      <td>0.626250</td>\n",
              "      <td>41.000000</td>\n",
              "      <td>1.000000</td>\n",
              "      <td>0.000000</td>\n",
              "    </tr>\n",
              "    <tr>\n",
              "      <th>max</th>\n",
              "      <td>17.000000</td>\n",
              "      <td>199.000000</td>\n",
              "      <td>122.000000</td>\n",
              "      <td>99.000000</td>\n",
              "      <td>846.000000</td>\n",
              "      <td>67.100000</td>\n",
              "      <td>2.420000</td>\n",
              "      <td>81.000000</td>\n",
              "      <td>1.000000</td>\n",
              "      <td>3.000000</td>\n",
              "    </tr>\n",
              "  </tbody>\n",
              "</table>\n",
              "</div>"
            ],
            "text/plain": [
              "         num_preg  glucose_conc  diastolic_bp   thickness     insulin  \\\n",
              "count  768.000000    768.000000    768.000000  768.000000  768.000000   \n",
              "mean     3.845052    120.894531     69.105469   20.536458   79.799479   \n",
              "std      3.369578     31.972618     19.355807   15.952218  115.244002   \n",
              "min      0.000000      0.000000      0.000000    0.000000    0.000000   \n",
              "25%      1.000000     99.000000     62.000000    0.000000    0.000000   \n",
              "50%      3.000000    117.000000     72.000000   23.000000   30.500000   \n",
              "75%      6.000000    140.250000     80.000000   32.000000  127.250000   \n",
              "max     17.000000    199.000000    122.000000   99.000000  846.000000   \n",
              "\n",
              "              bmi   diab_pred         age    diabetes  cluster_group  \n",
              "count  768.000000  768.000000  768.000000  768.000000     768.000000  \n",
              "mean    31.992578    0.471876   33.240885    0.348958       0.083333  \n",
              "std      7.884160    0.331329   11.760232    0.476951       0.303536  \n",
              "min      0.000000    0.078000   21.000000    0.000000       0.000000  \n",
              "25%     27.300000    0.243750   24.000000    0.000000       0.000000  \n",
              "50%     32.000000    0.372500   29.000000    0.000000       0.000000  \n",
              "75%     36.600000    0.626250   41.000000    1.000000       0.000000  \n",
              "max     67.100000    2.420000   81.000000    1.000000       3.000000  "
            ]
          },
          "metadata": {
            "tags": []
          },
          "execution_count": 161
        }
      ]
    },
    {
      "metadata": {
        "id": "Gzn04gKk2hEz",
        "colab_type": "text"
      },
      "cell_type": "markdown",
      "source": [
        "The following mean function will perform a group by using the cluster_group column and find the mean for each cluster.\n",
        "\n",
        "This will be the average for all characteristics within each group."
      ]
    },
    {
      "metadata": {
        "id": "jyJwmWTxPy8U",
        "colab_type": "code",
        "colab": {
          "base_uri": "https://localhost:8080/",
          "height": 204
        },
        "outputId": "9e805f1c-0090-45e2-cc51-37e525aa0f67"
      },
      "cell_type": "code",
      "source": [
        "diabete_cluster_data = df.groupby(['cluster_group']).mean()\n",
        "diabete_cluster_data"
      ],
      "execution_count": 162,
      "outputs": [
        {
          "output_type": "execute_result",
          "data": {
            "text/html": [
              "<div>\n",
              "<style scoped>\n",
              "    .dataframe tbody tr th:only-of-type {\n",
              "        vertical-align: middle;\n",
              "    }\n",
              "\n",
              "    .dataframe tbody tr th {\n",
              "        vertical-align: top;\n",
              "    }\n",
              "\n",
              "    .dataframe thead th {\n",
              "        text-align: right;\n",
              "    }\n",
              "</style>\n",
              "<table border=\"1\" class=\"dataframe\">\n",
              "  <thead>\n",
              "    <tr style=\"text-align: right;\">\n",
              "      <th></th>\n",
              "      <th>num_preg</th>\n",
              "      <th>glucose_conc</th>\n",
              "      <th>diastolic_bp</th>\n",
              "      <th>thickness</th>\n",
              "      <th>insulin</th>\n",
              "      <th>bmi</th>\n",
              "      <th>diab_pred</th>\n",
              "      <th>age</th>\n",
              "      <th>diabetes</th>\n",
              "    </tr>\n",
              "    <tr>\n",
              "      <th>cluster_group</th>\n",
              "      <th></th>\n",
              "      <th></th>\n",
              "      <th></th>\n",
              "      <th></th>\n",
              "      <th></th>\n",
              "      <th></th>\n",
              "      <th></th>\n",
              "      <th></th>\n",
              "      <th></th>\n",
              "    </tr>\n",
              "  </thead>\n",
              "  <tbody>\n",
              "    <tr>\n",
              "      <th>0.0</th>\n",
              "      <td>3.858956</td>\n",
              "      <td>118.035261</td>\n",
              "      <td>68.873061</td>\n",
              "      <td>19.636107</td>\n",
              "      <td>54.727786</td>\n",
              "      <td>31.709591</td>\n",
              "      <td>0.462307</td>\n",
              "      <td>33.207334</td>\n",
              "      <td>0.332863</td>\n",
              "    </tr>\n",
              "    <tr>\n",
              "      <th>1.0</th>\n",
              "      <td>3.709091</td>\n",
              "      <td>154.272727</td>\n",
              "      <td>71.745455</td>\n",
              "      <td>31.472727</td>\n",
              "      <td>356.618182</td>\n",
              "      <td>35.280000</td>\n",
              "      <td>0.559709</td>\n",
              "      <td>33.090909</td>\n",
              "      <td>0.545455</td>\n",
              "    </tr>\n",
              "    <tr>\n",
              "      <th>2.0</th>\n",
              "      <td>4.000000</td>\n",
              "      <td>162.000000</td>\n",
              "      <td>78.666667</td>\n",
              "      <td>32.000000</td>\n",
              "      <td>674.666667</td>\n",
              "      <td>39.233333</td>\n",
              "      <td>1.147667</td>\n",
              "      <td>35.333333</td>\n",
              "      <td>0.333333</td>\n",
              "    </tr>\n",
              "    <tr>\n",
              "      <th>3.0</th>\n",
              "      <td>1.000000</td>\n",
              "      <td>189.000000</td>\n",
              "      <td>60.000000</td>\n",
              "      <td>23.000000</td>\n",
              "      <td>846.000000</td>\n",
              "      <td>30.100000</td>\n",
              "      <td>0.398000</td>\n",
              "      <td>59.000000</td>\n",
              "      <td>1.000000</td>\n",
              "    </tr>\n",
              "  </tbody>\n",
              "</table>\n",
              "</div>"
            ],
            "text/plain": [
              "               num_preg  glucose_conc  diastolic_bp  thickness     insulin  \\\n",
              "cluster_group                                                                \n",
              "0.0            3.858956    118.035261     68.873061  19.636107   54.727786   \n",
              "1.0            3.709091    154.272727     71.745455  31.472727  356.618182   \n",
              "2.0            4.000000    162.000000     78.666667  32.000000  674.666667   \n",
              "3.0            1.000000    189.000000     60.000000  23.000000  846.000000   \n",
              "\n",
              "                     bmi  diab_pred        age  diabetes  \n",
              "cluster_group                                             \n",
              "0.0            31.709591   0.462307  33.207334  0.332863  \n",
              "1.0            35.280000   0.559709  33.090909  0.545455  \n",
              "2.0            39.233333   1.147667  35.333333  0.333333  \n",
              "3.0            30.100000   0.398000  59.000000  1.000000  "
            ]
          },
          "metadata": {
            "tags": []
          },
          "execution_count": 162
        }
      ]
    },
    {
      "metadata": {
        "id": "J3LLOnnk25Q1",
        "colab_type": "text"
      },
      "cell_type": "markdown",
      "source": [
        "The following method will return the number of samples that exist in each cluster and make the table above more understandable.\n",
        "\n",
        "It seems there are 2 clusters that are sufficient data points for it to be actually significant. The last 2 clusters have just 3 and 1 persons in them and there isn't much that can be learned from those two.\n",
        "\n",
        "The first cluster with 709 persons is by far the most common one with an average age of 33 and the diabetes rate is almost the same as the whole dataset. \n",
        "The amount of insulin they get compared to the other clusters is very low. and can be noticed that in the second cluster (55 persons) this goes together with an higher diabetes rate, 54%.\n",
        "\n",
        "Last two clusters don't tell much as they are way different in many values from the first two and that could mean those are edge cases scenarios."
      ]
    },
    {
      "metadata": {
        "id": "VTa11iS2QLn5",
        "colab_type": "code",
        "colab": {
          "base_uri": "https://localhost:8080/",
          "height": 204
        },
        "outputId": "0f88f622-cda8-487e-dad3-af9c97bdea7c"
      },
      "cell_type": "code",
      "source": [
        "diabete_cluster_data['Counts'] = pd.Series(df.groupby(['cluster_group']).size())\n",
        "diabete_cluster_data"
      ],
      "execution_count": 163,
      "outputs": [
        {
          "output_type": "execute_result",
          "data": {
            "text/html": [
              "<div>\n",
              "<style scoped>\n",
              "    .dataframe tbody tr th:only-of-type {\n",
              "        vertical-align: middle;\n",
              "    }\n",
              "\n",
              "    .dataframe tbody tr th {\n",
              "        vertical-align: top;\n",
              "    }\n",
              "\n",
              "    .dataframe thead th {\n",
              "        text-align: right;\n",
              "    }\n",
              "</style>\n",
              "<table border=\"1\" class=\"dataframe\">\n",
              "  <thead>\n",
              "    <tr style=\"text-align: right;\">\n",
              "      <th></th>\n",
              "      <th>num_preg</th>\n",
              "      <th>glucose_conc</th>\n",
              "      <th>diastolic_bp</th>\n",
              "      <th>thickness</th>\n",
              "      <th>insulin</th>\n",
              "      <th>bmi</th>\n",
              "      <th>diab_pred</th>\n",
              "      <th>age</th>\n",
              "      <th>diabetes</th>\n",
              "      <th>Counts</th>\n",
              "    </tr>\n",
              "    <tr>\n",
              "      <th>cluster_group</th>\n",
              "      <th></th>\n",
              "      <th></th>\n",
              "      <th></th>\n",
              "      <th></th>\n",
              "      <th></th>\n",
              "      <th></th>\n",
              "      <th></th>\n",
              "      <th></th>\n",
              "      <th></th>\n",
              "      <th></th>\n",
              "    </tr>\n",
              "  </thead>\n",
              "  <tbody>\n",
              "    <tr>\n",
              "      <th>0.0</th>\n",
              "      <td>3.858956</td>\n",
              "      <td>118.035261</td>\n",
              "      <td>68.873061</td>\n",
              "      <td>19.636107</td>\n",
              "      <td>54.727786</td>\n",
              "      <td>31.709591</td>\n",
              "      <td>0.462307</td>\n",
              "      <td>33.207334</td>\n",
              "      <td>0.332863</td>\n",
              "      <td>709</td>\n",
              "    </tr>\n",
              "    <tr>\n",
              "      <th>1.0</th>\n",
              "      <td>3.709091</td>\n",
              "      <td>154.272727</td>\n",
              "      <td>71.745455</td>\n",
              "      <td>31.472727</td>\n",
              "      <td>356.618182</td>\n",
              "      <td>35.280000</td>\n",
              "      <td>0.559709</td>\n",
              "      <td>33.090909</td>\n",
              "      <td>0.545455</td>\n",
              "      <td>55</td>\n",
              "    </tr>\n",
              "    <tr>\n",
              "      <th>2.0</th>\n",
              "      <td>4.000000</td>\n",
              "      <td>162.000000</td>\n",
              "      <td>78.666667</td>\n",
              "      <td>32.000000</td>\n",
              "      <td>674.666667</td>\n",
              "      <td>39.233333</td>\n",
              "      <td>1.147667</td>\n",
              "      <td>35.333333</td>\n",
              "      <td>0.333333</td>\n",
              "      <td>3</td>\n",
              "    </tr>\n",
              "    <tr>\n",
              "      <th>3.0</th>\n",
              "      <td>1.000000</td>\n",
              "      <td>189.000000</td>\n",
              "      <td>60.000000</td>\n",
              "      <td>23.000000</td>\n",
              "      <td>846.000000</td>\n",
              "      <td>30.100000</td>\n",
              "      <td>0.398000</td>\n",
              "      <td>59.000000</td>\n",
              "      <td>1.000000</td>\n",
              "      <td>1</td>\n",
              "    </tr>\n",
              "  </tbody>\n",
              "</table>\n",
              "</div>"
            ],
            "text/plain": [
              "               num_preg  glucose_conc  diastolic_bp  thickness     insulin  \\\n",
              "cluster_group                                                                \n",
              "0.0            3.858956    118.035261     68.873061  19.636107   54.727786   \n",
              "1.0            3.709091    154.272727     71.745455  31.472727  356.618182   \n",
              "2.0            4.000000    162.000000     78.666667  32.000000  674.666667   \n",
              "3.0            1.000000    189.000000     60.000000  23.000000  846.000000   \n",
              "\n",
              "                     bmi  diab_pred        age  diabetes  Counts  \n",
              "cluster_group                                                     \n",
              "0.0            31.709591   0.462307  33.207334  0.332863     709  \n",
              "1.0            35.280000   0.559709  33.090909  0.545455      55  \n",
              "2.0            39.233333   1.147667  35.333333  0.333333       3  \n",
              "3.0            30.100000   0.398000  59.000000  1.000000       1  "
            ]
          },
          "metadata": {
            "tags": []
          },
          "execution_count": 163
        }
      ]
    },
    {
      "metadata": {
        "id": "8-Hox4pN5RI6",
        "colab_type": "text"
      },
      "cell_type": "markdown",
      "source": [
        "Funciont to describe the persons belonging to the first cluster."
      ]
    },
    {
      "metadata": {
        "id": "SNsO41X_Qzv7",
        "colab_type": "code",
        "colab": {
          "base_uri": "https://localhost:8080/",
          "height": 297
        },
        "outputId": "827ab331-0db0-42f7-d8f2-9348bc656fba"
      },
      "cell_type": "code",
      "source": [
        "df[df['cluster_group'] == 0 ].describe()"
      ],
      "execution_count": 164,
      "outputs": [
        {
          "output_type": "execute_result",
          "data": {
            "text/html": [
              "<div>\n",
              "<style scoped>\n",
              "    .dataframe tbody tr th:only-of-type {\n",
              "        vertical-align: middle;\n",
              "    }\n",
              "\n",
              "    .dataframe tbody tr th {\n",
              "        vertical-align: top;\n",
              "    }\n",
              "\n",
              "    .dataframe thead th {\n",
              "        text-align: right;\n",
              "    }\n",
              "</style>\n",
              "<table border=\"1\" class=\"dataframe\">\n",
              "  <thead>\n",
              "    <tr style=\"text-align: right;\">\n",
              "      <th></th>\n",
              "      <th>num_preg</th>\n",
              "      <th>glucose_conc</th>\n",
              "      <th>diastolic_bp</th>\n",
              "      <th>thickness</th>\n",
              "      <th>insulin</th>\n",
              "      <th>bmi</th>\n",
              "      <th>diab_pred</th>\n",
              "      <th>age</th>\n",
              "      <th>diabetes</th>\n",
              "      <th>cluster_group</th>\n",
              "    </tr>\n",
              "  </thead>\n",
              "  <tbody>\n",
              "    <tr>\n",
              "      <th>count</th>\n",
              "      <td>709.000000</td>\n",
              "      <td>709.000000</td>\n",
              "      <td>709.000000</td>\n",
              "      <td>709.000000</td>\n",
              "      <td>709.000000</td>\n",
              "      <td>709.000000</td>\n",
              "      <td>709.000000</td>\n",
              "      <td>709.000000</td>\n",
              "      <td>709.000000</td>\n",
              "      <td>709.0</td>\n",
              "    </tr>\n",
              "    <tr>\n",
              "      <th>mean</th>\n",
              "      <td>3.858956</td>\n",
              "      <td>118.035261</td>\n",
              "      <td>68.873061</td>\n",
              "      <td>19.636107</td>\n",
              "      <td>54.727786</td>\n",
              "      <td>31.709591</td>\n",
              "      <td>0.462307</td>\n",
              "      <td>33.207334</td>\n",
              "      <td>0.332863</td>\n",
              "      <td>0.0</td>\n",
              "    </tr>\n",
              "    <tr>\n",
              "      <th>std</th>\n",
              "      <td>3.376534</td>\n",
              "      <td>30.701224</td>\n",
              "      <td>19.868372</td>\n",
              "      <td>16.017210</td>\n",
              "      <td>69.081959</td>\n",
              "      <td>7.924295</td>\n",
              "      <td>0.318774</td>\n",
              "      <td>11.690483</td>\n",
              "      <td>0.471571</td>\n",
              "      <td>0.0</td>\n",
              "    </tr>\n",
              "    <tr>\n",
              "      <th>min</th>\n",
              "      <td>0.000000</td>\n",
              "      <td>0.000000</td>\n",
              "      <td>0.000000</td>\n",
              "      <td>0.000000</td>\n",
              "      <td>0.000000</td>\n",
              "      <td>0.000000</td>\n",
              "      <td>0.078000</td>\n",
              "      <td>21.000000</td>\n",
              "      <td>0.000000</td>\n",
              "      <td>0.0</td>\n",
              "    </tr>\n",
              "    <tr>\n",
              "      <th>25%</th>\n",
              "      <td>1.000000</td>\n",
              "      <td>98.000000</td>\n",
              "      <td>62.000000</td>\n",
              "      <td>0.000000</td>\n",
              "      <td>0.000000</td>\n",
              "      <td>27.000000</td>\n",
              "      <td>0.240000</td>\n",
              "      <td>24.000000</td>\n",
              "      <td>0.000000</td>\n",
              "      <td>0.0</td>\n",
              "    </tr>\n",
              "    <tr>\n",
              "      <th>50%</th>\n",
              "      <td>3.000000</td>\n",
              "      <td>114.000000</td>\n",
              "      <td>72.000000</td>\n",
              "      <td>22.000000</td>\n",
              "      <td>0.000000</td>\n",
              "      <td>32.000000</td>\n",
              "      <td>0.365000</td>\n",
              "      <td>29.000000</td>\n",
              "      <td>0.000000</td>\n",
              "      <td>0.0</td>\n",
              "    </tr>\n",
              "    <tr>\n",
              "      <th>75%</th>\n",
              "      <td>6.000000</td>\n",
              "      <td>136.000000</td>\n",
              "      <td>80.000000</td>\n",
              "      <td>32.000000</td>\n",
              "      <td>105.000000</td>\n",
              "      <td>36.100000</td>\n",
              "      <td>0.607000</td>\n",
              "      <td>41.000000</td>\n",
              "      <td>1.000000</td>\n",
              "      <td>0.0</td>\n",
              "    </tr>\n",
              "    <tr>\n",
              "      <th>max</th>\n",
              "      <td>17.000000</td>\n",
              "      <td>199.000000</td>\n",
              "      <td>122.000000</td>\n",
              "      <td>99.000000</td>\n",
              "      <td>240.000000</td>\n",
              "      <td>67.100000</td>\n",
              "      <td>2.420000</td>\n",
              "      <td>81.000000</td>\n",
              "      <td>1.000000</td>\n",
              "      <td>0.0</td>\n",
              "    </tr>\n",
              "  </tbody>\n",
              "</table>\n",
              "</div>"
            ],
            "text/plain": [
              "         num_preg  glucose_conc  diastolic_bp   thickness     insulin  \\\n",
              "count  709.000000    709.000000    709.000000  709.000000  709.000000   \n",
              "mean     3.858956    118.035261     68.873061   19.636107   54.727786   \n",
              "std      3.376534     30.701224     19.868372   16.017210   69.081959   \n",
              "min      0.000000      0.000000      0.000000    0.000000    0.000000   \n",
              "25%      1.000000     98.000000     62.000000    0.000000    0.000000   \n",
              "50%      3.000000    114.000000     72.000000   22.000000    0.000000   \n",
              "75%      6.000000    136.000000     80.000000   32.000000  105.000000   \n",
              "max     17.000000    199.000000    122.000000   99.000000  240.000000   \n",
              "\n",
              "              bmi   diab_pred         age    diabetes  cluster_group  \n",
              "count  709.000000  709.000000  709.000000  709.000000          709.0  \n",
              "mean    31.709591    0.462307   33.207334    0.332863            0.0  \n",
              "std      7.924295    0.318774   11.690483    0.471571            0.0  \n",
              "min      0.000000    0.078000   21.000000    0.000000            0.0  \n",
              "25%     27.000000    0.240000   24.000000    0.000000            0.0  \n",
              "50%     32.000000    0.365000   29.000000    0.000000            0.0  \n",
              "75%     36.100000    0.607000   41.000000    1.000000            0.0  \n",
              "max     67.100000    2.420000   81.000000    1.000000            0.0  "
            ]
          },
          "metadata": {
            "tags": []
          },
          "execution_count": 164
        }
      ]
    },
    {
      "metadata": {
        "id": "vx5fxSYL5V0i",
        "colab_type": "text"
      },
      "cell_type": "markdown",
      "source": [
        "Function displaying each person belonging to the first cluster."
      ]
    },
    {
      "metadata": {
        "id": "PwiU8ZlJRTL3",
        "colab_type": "code",
        "colab": {
          "base_uri": "https://localhost:8080/",
          "height": 1969
        },
        "outputId": "f669bb51-6eea-4d07-b607-73e15699ab0e"
      },
      "cell_type": "code",
      "source": [
        "df[df['cluster_group'] == 0 ]"
      ],
      "execution_count": 165,
      "outputs": [
        {
          "output_type": "execute_result",
          "data": {
            "text/html": [
              "<div>\n",
              "<style scoped>\n",
              "    .dataframe tbody tr th:only-of-type {\n",
              "        vertical-align: middle;\n",
              "    }\n",
              "\n",
              "    .dataframe tbody tr th {\n",
              "        vertical-align: top;\n",
              "    }\n",
              "\n",
              "    .dataframe thead th {\n",
              "        text-align: right;\n",
              "    }\n",
              "</style>\n",
              "<table border=\"1\" class=\"dataframe\">\n",
              "  <thead>\n",
              "    <tr style=\"text-align: right;\">\n",
              "      <th></th>\n",
              "      <th>num_preg</th>\n",
              "      <th>glucose_conc</th>\n",
              "      <th>diastolic_bp</th>\n",
              "      <th>thickness</th>\n",
              "      <th>insulin</th>\n",
              "      <th>bmi</th>\n",
              "      <th>diab_pred</th>\n",
              "      <th>age</th>\n",
              "      <th>diabetes</th>\n",
              "      <th>cluster_group</th>\n",
              "    </tr>\n",
              "  </thead>\n",
              "  <tbody>\n",
              "    <tr>\n",
              "      <th>0</th>\n",
              "      <td>6</td>\n",
              "      <td>148</td>\n",
              "      <td>72</td>\n",
              "      <td>35</td>\n",
              "      <td>0</td>\n",
              "      <td>33.6</td>\n",
              "      <td>0.627</td>\n",
              "      <td>50</td>\n",
              "      <td>1</td>\n",
              "      <td>0.0</td>\n",
              "    </tr>\n",
              "    <tr>\n",
              "      <th>1</th>\n",
              "      <td>1</td>\n",
              "      <td>85</td>\n",
              "      <td>66</td>\n",
              "      <td>29</td>\n",
              "      <td>0</td>\n",
              "      <td>26.6</td>\n",
              "      <td>0.351</td>\n",
              "      <td>31</td>\n",
              "      <td>0</td>\n",
              "      <td>0.0</td>\n",
              "    </tr>\n",
              "    <tr>\n",
              "      <th>2</th>\n",
              "      <td>8</td>\n",
              "      <td>183</td>\n",
              "      <td>64</td>\n",
              "      <td>0</td>\n",
              "      <td>0</td>\n",
              "      <td>23.3</td>\n",
              "      <td>0.672</td>\n",
              "      <td>32</td>\n",
              "      <td>1</td>\n",
              "      <td>0.0</td>\n",
              "    </tr>\n",
              "    <tr>\n",
              "      <th>3</th>\n",
              "      <td>1</td>\n",
              "      <td>89</td>\n",
              "      <td>66</td>\n",
              "      <td>23</td>\n",
              "      <td>94</td>\n",
              "      <td>28.1</td>\n",
              "      <td>0.167</td>\n",
              "      <td>21</td>\n",
              "      <td>0</td>\n",
              "      <td>0.0</td>\n",
              "    </tr>\n",
              "    <tr>\n",
              "      <th>4</th>\n",
              "      <td>0</td>\n",
              "      <td>137</td>\n",
              "      <td>40</td>\n",
              "      <td>35</td>\n",
              "      <td>168</td>\n",
              "      <td>43.1</td>\n",
              "      <td>2.288</td>\n",
              "      <td>33</td>\n",
              "      <td>1</td>\n",
              "      <td>0.0</td>\n",
              "    </tr>\n",
              "    <tr>\n",
              "      <th>5</th>\n",
              "      <td>5</td>\n",
              "      <td>116</td>\n",
              "      <td>74</td>\n",
              "      <td>0</td>\n",
              "      <td>0</td>\n",
              "      <td>25.6</td>\n",
              "      <td>0.201</td>\n",
              "      <td>30</td>\n",
              "      <td>0</td>\n",
              "      <td>0.0</td>\n",
              "    </tr>\n",
              "    <tr>\n",
              "      <th>6</th>\n",
              "      <td>3</td>\n",
              "      <td>78</td>\n",
              "      <td>50</td>\n",
              "      <td>32</td>\n",
              "      <td>88</td>\n",
              "      <td>31.0</td>\n",
              "      <td>0.248</td>\n",
              "      <td>26</td>\n",
              "      <td>1</td>\n",
              "      <td>0.0</td>\n",
              "    </tr>\n",
              "    <tr>\n",
              "      <th>7</th>\n",
              "      <td>10</td>\n",
              "      <td>115</td>\n",
              "      <td>0</td>\n",
              "      <td>0</td>\n",
              "      <td>0</td>\n",
              "      <td>35.3</td>\n",
              "      <td>0.134</td>\n",
              "      <td>29</td>\n",
              "      <td>0</td>\n",
              "      <td>0.0</td>\n",
              "    </tr>\n",
              "    <tr>\n",
              "      <th>9</th>\n",
              "      <td>8</td>\n",
              "      <td>125</td>\n",
              "      <td>96</td>\n",
              "      <td>0</td>\n",
              "      <td>0</td>\n",
              "      <td>0.0</td>\n",
              "      <td>0.232</td>\n",
              "      <td>54</td>\n",
              "      <td>1</td>\n",
              "      <td>0.0</td>\n",
              "    </tr>\n",
              "    <tr>\n",
              "      <th>10</th>\n",
              "      <td>4</td>\n",
              "      <td>110</td>\n",
              "      <td>92</td>\n",
              "      <td>0</td>\n",
              "      <td>0</td>\n",
              "      <td>37.6</td>\n",
              "      <td>0.191</td>\n",
              "      <td>30</td>\n",
              "      <td>0</td>\n",
              "      <td>0.0</td>\n",
              "    </tr>\n",
              "    <tr>\n",
              "      <th>11</th>\n",
              "      <td>10</td>\n",
              "      <td>168</td>\n",
              "      <td>74</td>\n",
              "      <td>0</td>\n",
              "      <td>0</td>\n",
              "      <td>38.0</td>\n",
              "      <td>0.537</td>\n",
              "      <td>34</td>\n",
              "      <td>1</td>\n",
              "      <td>0.0</td>\n",
              "    </tr>\n",
              "    <tr>\n",
              "      <th>12</th>\n",
              "      <td>10</td>\n",
              "      <td>139</td>\n",
              "      <td>80</td>\n",
              "      <td>0</td>\n",
              "      <td>0</td>\n",
              "      <td>27.1</td>\n",
              "      <td>1.441</td>\n",
              "      <td>57</td>\n",
              "      <td>0</td>\n",
              "      <td>0.0</td>\n",
              "    </tr>\n",
              "    <tr>\n",
              "      <th>14</th>\n",
              "      <td>5</td>\n",
              "      <td>166</td>\n",
              "      <td>72</td>\n",
              "      <td>19</td>\n",
              "      <td>175</td>\n",
              "      <td>25.8</td>\n",
              "      <td>0.587</td>\n",
              "      <td>51</td>\n",
              "      <td>1</td>\n",
              "      <td>0.0</td>\n",
              "    </tr>\n",
              "    <tr>\n",
              "      <th>15</th>\n",
              "      <td>7</td>\n",
              "      <td>100</td>\n",
              "      <td>0</td>\n",
              "      <td>0</td>\n",
              "      <td>0</td>\n",
              "      <td>30.0</td>\n",
              "      <td>0.484</td>\n",
              "      <td>32</td>\n",
              "      <td>1</td>\n",
              "      <td>0.0</td>\n",
              "    </tr>\n",
              "    <tr>\n",
              "      <th>16</th>\n",
              "      <td>0</td>\n",
              "      <td>118</td>\n",
              "      <td>84</td>\n",
              "      <td>47</td>\n",
              "      <td>230</td>\n",
              "      <td>45.8</td>\n",
              "      <td>0.551</td>\n",
              "      <td>31</td>\n",
              "      <td>1</td>\n",
              "      <td>0.0</td>\n",
              "    </tr>\n",
              "    <tr>\n",
              "      <th>17</th>\n",
              "      <td>7</td>\n",
              "      <td>107</td>\n",
              "      <td>74</td>\n",
              "      <td>0</td>\n",
              "      <td>0</td>\n",
              "      <td>29.6</td>\n",
              "      <td>0.254</td>\n",
              "      <td>31</td>\n",
              "      <td>1</td>\n",
              "      <td>0.0</td>\n",
              "    </tr>\n",
              "    <tr>\n",
              "      <th>18</th>\n",
              "      <td>1</td>\n",
              "      <td>103</td>\n",
              "      <td>30</td>\n",
              "      <td>38</td>\n",
              "      <td>83</td>\n",
              "      <td>43.3</td>\n",
              "      <td>0.183</td>\n",
              "      <td>33</td>\n",
              "      <td>0</td>\n",
              "      <td>0.0</td>\n",
              "    </tr>\n",
              "    <tr>\n",
              "      <th>19</th>\n",
              "      <td>1</td>\n",
              "      <td>115</td>\n",
              "      <td>70</td>\n",
              "      <td>30</td>\n",
              "      <td>96</td>\n",
              "      <td>34.6</td>\n",
              "      <td>0.529</td>\n",
              "      <td>32</td>\n",
              "      <td>1</td>\n",
              "      <td>0.0</td>\n",
              "    </tr>\n",
              "    <tr>\n",
              "      <th>20</th>\n",
              "      <td>3</td>\n",
              "      <td>126</td>\n",
              "      <td>88</td>\n",
              "      <td>41</td>\n",
              "      <td>235</td>\n",
              "      <td>39.3</td>\n",
              "      <td>0.704</td>\n",
              "      <td>27</td>\n",
              "      <td>0</td>\n",
              "      <td>0.0</td>\n",
              "    </tr>\n",
              "    <tr>\n",
              "      <th>21</th>\n",
              "      <td>8</td>\n",
              "      <td>99</td>\n",
              "      <td>84</td>\n",
              "      <td>0</td>\n",
              "      <td>0</td>\n",
              "      <td>35.4</td>\n",
              "      <td>0.388</td>\n",
              "      <td>50</td>\n",
              "      <td>0</td>\n",
              "      <td>0.0</td>\n",
              "    </tr>\n",
              "    <tr>\n",
              "      <th>22</th>\n",
              "      <td>7</td>\n",
              "      <td>196</td>\n",
              "      <td>90</td>\n",
              "      <td>0</td>\n",
              "      <td>0</td>\n",
              "      <td>39.8</td>\n",
              "      <td>0.451</td>\n",
              "      <td>41</td>\n",
              "      <td>1</td>\n",
              "      <td>0.0</td>\n",
              "    </tr>\n",
              "    <tr>\n",
              "      <th>23</th>\n",
              "      <td>9</td>\n",
              "      <td>119</td>\n",
              "      <td>80</td>\n",
              "      <td>35</td>\n",
              "      <td>0</td>\n",
              "      <td>29.0</td>\n",
              "      <td>0.263</td>\n",
              "      <td>29</td>\n",
              "      <td>1</td>\n",
              "      <td>0.0</td>\n",
              "    </tr>\n",
              "    <tr>\n",
              "      <th>24</th>\n",
              "      <td>11</td>\n",
              "      <td>143</td>\n",
              "      <td>94</td>\n",
              "      <td>33</td>\n",
              "      <td>146</td>\n",
              "      <td>36.6</td>\n",
              "      <td>0.254</td>\n",
              "      <td>51</td>\n",
              "      <td>1</td>\n",
              "      <td>0.0</td>\n",
              "    </tr>\n",
              "    <tr>\n",
              "      <th>25</th>\n",
              "      <td>10</td>\n",
              "      <td>125</td>\n",
              "      <td>70</td>\n",
              "      <td>26</td>\n",
              "      <td>115</td>\n",
              "      <td>31.1</td>\n",
              "      <td>0.205</td>\n",
              "      <td>41</td>\n",
              "      <td>1</td>\n",
              "      <td>0.0</td>\n",
              "    </tr>\n",
              "    <tr>\n",
              "      <th>26</th>\n",
              "      <td>7</td>\n",
              "      <td>147</td>\n",
              "      <td>76</td>\n",
              "      <td>0</td>\n",
              "      <td>0</td>\n",
              "      <td>39.4</td>\n",
              "      <td>0.257</td>\n",
              "      <td>43</td>\n",
              "      <td>1</td>\n",
              "      <td>0.0</td>\n",
              "    </tr>\n",
              "    <tr>\n",
              "      <th>27</th>\n",
              "      <td>1</td>\n",
              "      <td>97</td>\n",
              "      <td>66</td>\n",
              "      <td>15</td>\n",
              "      <td>140</td>\n",
              "      <td>23.2</td>\n",
              "      <td>0.487</td>\n",
              "      <td>22</td>\n",
              "      <td>0</td>\n",
              "      <td>0.0</td>\n",
              "    </tr>\n",
              "    <tr>\n",
              "      <th>28</th>\n",
              "      <td>13</td>\n",
              "      <td>145</td>\n",
              "      <td>82</td>\n",
              "      <td>19</td>\n",
              "      <td>110</td>\n",
              "      <td>22.2</td>\n",
              "      <td>0.245</td>\n",
              "      <td>57</td>\n",
              "      <td>0</td>\n",
              "      <td>0.0</td>\n",
              "    </tr>\n",
              "    <tr>\n",
              "      <th>29</th>\n",
              "      <td>5</td>\n",
              "      <td>117</td>\n",
              "      <td>92</td>\n",
              "      <td>0</td>\n",
              "      <td>0</td>\n",
              "      <td>34.1</td>\n",
              "      <td>0.337</td>\n",
              "      <td>38</td>\n",
              "      <td>0</td>\n",
              "      <td>0.0</td>\n",
              "    </tr>\n",
              "    <tr>\n",
              "      <th>30</th>\n",
              "      <td>5</td>\n",
              "      <td>109</td>\n",
              "      <td>75</td>\n",
              "      <td>26</td>\n",
              "      <td>0</td>\n",
              "      <td>36.0</td>\n",
              "      <td>0.546</td>\n",
              "      <td>60</td>\n",
              "      <td>0</td>\n",
              "      <td>0.0</td>\n",
              "    </tr>\n",
              "    <tr>\n",
              "      <th>32</th>\n",
              "      <td>3</td>\n",
              "      <td>88</td>\n",
              "      <td>58</td>\n",
              "      <td>11</td>\n",
              "      <td>54</td>\n",
              "      <td>24.8</td>\n",
              "      <td>0.267</td>\n",
              "      <td>22</td>\n",
              "      <td>0</td>\n",
              "      <td>0.0</td>\n",
              "    </tr>\n",
              "    <tr>\n",
              "      <th>...</th>\n",
              "      <td>...</td>\n",
              "      <td>...</td>\n",
              "      <td>...</td>\n",
              "      <td>...</td>\n",
              "      <td>...</td>\n",
              "      <td>...</td>\n",
              "      <td>...</td>\n",
              "      <td>...</td>\n",
              "      <td>...</td>\n",
              "      <td>...</td>\n",
              "    </tr>\n",
              "    <tr>\n",
              "      <th>737</th>\n",
              "      <td>8</td>\n",
              "      <td>65</td>\n",
              "      <td>72</td>\n",
              "      <td>23</td>\n",
              "      <td>0</td>\n",
              "      <td>32.0</td>\n",
              "      <td>0.600</td>\n",
              "      <td>42</td>\n",
              "      <td>0</td>\n",
              "      <td>0.0</td>\n",
              "    </tr>\n",
              "    <tr>\n",
              "      <th>738</th>\n",
              "      <td>2</td>\n",
              "      <td>99</td>\n",
              "      <td>60</td>\n",
              "      <td>17</td>\n",
              "      <td>160</td>\n",
              "      <td>36.6</td>\n",
              "      <td>0.453</td>\n",
              "      <td>21</td>\n",
              "      <td>0</td>\n",
              "      <td>0.0</td>\n",
              "    </tr>\n",
              "    <tr>\n",
              "      <th>739</th>\n",
              "      <td>1</td>\n",
              "      <td>102</td>\n",
              "      <td>74</td>\n",
              "      <td>0</td>\n",
              "      <td>0</td>\n",
              "      <td>39.5</td>\n",
              "      <td>0.293</td>\n",
              "      <td>42</td>\n",
              "      <td>1</td>\n",
              "      <td>0.0</td>\n",
              "    </tr>\n",
              "    <tr>\n",
              "      <th>740</th>\n",
              "      <td>11</td>\n",
              "      <td>120</td>\n",
              "      <td>80</td>\n",
              "      <td>37</td>\n",
              "      <td>150</td>\n",
              "      <td>42.3</td>\n",
              "      <td>0.785</td>\n",
              "      <td>48</td>\n",
              "      <td>1</td>\n",
              "      <td>0.0</td>\n",
              "    </tr>\n",
              "    <tr>\n",
              "      <th>741</th>\n",
              "      <td>3</td>\n",
              "      <td>102</td>\n",
              "      <td>44</td>\n",
              "      <td>20</td>\n",
              "      <td>94</td>\n",
              "      <td>30.8</td>\n",
              "      <td>0.400</td>\n",
              "      <td>26</td>\n",
              "      <td>0</td>\n",
              "      <td>0.0</td>\n",
              "    </tr>\n",
              "    <tr>\n",
              "      <th>742</th>\n",
              "      <td>1</td>\n",
              "      <td>109</td>\n",
              "      <td>58</td>\n",
              "      <td>18</td>\n",
              "      <td>116</td>\n",
              "      <td>28.5</td>\n",
              "      <td>0.219</td>\n",
              "      <td>22</td>\n",
              "      <td>0</td>\n",
              "      <td>0.0</td>\n",
              "    </tr>\n",
              "    <tr>\n",
              "      <th>743</th>\n",
              "      <td>9</td>\n",
              "      <td>140</td>\n",
              "      <td>94</td>\n",
              "      <td>0</td>\n",
              "      <td>0</td>\n",
              "      <td>32.7</td>\n",
              "      <td>0.734</td>\n",
              "      <td>45</td>\n",
              "      <td>1</td>\n",
              "      <td>0.0</td>\n",
              "    </tr>\n",
              "    <tr>\n",
              "      <th>744</th>\n",
              "      <td>13</td>\n",
              "      <td>153</td>\n",
              "      <td>88</td>\n",
              "      <td>37</td>\n",
              "      <td>140</td>\n",
              "      <td>40.6</td>\n",
              "      <td>1.174</td>\n",
              "      <td>39</td>\n",
              "      <td>0</td>\n",
              "      <td>0.0</td>\n",
              "    </tr>\n",
              "    <tr>\n",
              "      <th>745</th>\n",
              "      <td>12</td>\n",
              "      <td>100</td>\n",
              "      <td>84</td>\n",
              "      <td>33</td>\n",
              "      <td>105</td>\n",
              "      <td>30.0</td>\n",
              "      <td>0.488</td>\n",
              "      <td>46</td>\n",
              "      <td>0</td>\n",
              "      <td>0.0</td>\n",
              "    </tr>\n",
              "    <tr>\n",
              "      <th>746</th>\n",
              "      <td>1</td>\n",
              "      <td>147</td>\n",
              "      <td>94</td>\n",
              "      <td>41</td>\n",
              "      <td>0</td>\n",
              "      <td>49.3</td>\n",
              "      <td>0.358</td>\n",
              "      <td>27</td>\n",
              "      <td>1</td>\n",
              "      <td>0.0</td>\n",
              "    </tr>\n",
              "    <tr>\n",
              "      <th>747</th>\n",
              "      <td>1</td>\n",
              "      <td>81</td>\n",
              "      <td>74</td>\n",
              "      <td>41</td>\n",
              "      <td>57</td>\n",
              "      <td>46.3</td>\n",
              "      <td>1.096</td>\n",
              "      <td>32</td>\n",
              "      <td>0</td>\n",
              "      <td>0.0</td>\n",
              "    </tr>\n",
              "    <tr>\n",
              "      <th>748</th>\n",
              "      <td>3</td>\n",
              "      <td>187</td>\n",
              "      <td>70</td>\n",
              "      <td>22</td>\n",
              "      <td>200</td>\n",
              "      <td>36.4</td>\n",
              "      <td>0.408</td>\n",
              "      <td>36</td>\n",
              "      <td>1</td>\n",
              "      <td>0.0</td>\n",
              "    </tr>\n",
              "    <tr>\n",
              "      <th>749</th>\n",
              "      <td>6</td>\n",
              "      <td>162</td>\n",
              "      <td>62</td>\n",
              "      <td>0</td>\n",
              "      <td>0</td>\n",
              "      <td>24.3</td>\n",
              "      <td>0.178</td>\n",
              "      <td>50</td>\n",
              "      <td>1</td>\n",
              "      <td>0.0</td>\n",
              "    </tr>\n",
              "    <tr>\n",
              "      <th>750</th>\n",
              "      <td>4</td>\n",
              "      <td>136</td>\n",
              "      <td>70</td>\n",
              "      <td>0</td>\n",
              "      <td>0</td>\n",
              "      <td>31.2</td>\n",
              "      <td>1.182</td>\n",
              "      <td>22</td>\n",
              "      <td>1</td>\n",
              "      <td>0.0</td>\n",
              "    </tr>\n",
              "    <tr>\n",
              "      <th>751</th>\n",
              "      <td>1</td>\n",
              "      <td>121</td>\n",
              "      <td>78</td>\n",
              "      <td>39</td>\n",
              "      <td>74</td>\n",
              "      <td>39.0</td>\n",
              "      <td>0.261</td>\n",
              "      <td>28</td>\n",
              "      <td>0</td>\n",
              "      <td>0.0</td>\n",
              "    </tr>\n",
              "    <tr>\n",
              "      <th>752</th>\n",
              "      <td>3</td>\n",
              "      <td>108</td>\n",
              "      <td>62</td>\n",
              "      <td>24</td>\n",
              "      <td>0</td>\n",
              "      <td>26.0</td>\n",
              "      <td>0.223</td>\n",
              "      <td>25</td>\n",
              "      <td>0</td>\n",
              "      <td>0.0</td>\n",
              "    </tr>\n",
              "    <tr>\n",
              "      <th>754</th>\n",
              "      <td>8</td>\n",
              "      <td>154</td>\n",
              "      <td>78</td>\n",
              "      <td>32</td>\n",
              "      <td>0</td>\n",
              "      <td>32.4</td>\n",
              "      <td>0.443</td>\n",
              "      <td>45</td>\n",
              "      <td>1</td>\n",
              "      <td>0.0</td>\n",
              "    </tr>\n",
              "    <tr>\n",
              "      <th>755</th>\n",
              "      <td>1</td>\n",
              "      <td>128</td>\n",
              "      <td>88</td>\n",
              "      <td>39</td>\n",
              "      <td>110</td>\n",
              "      <td>36.5</td>\n",
              "      <td>1.057</td>\n",
              "      <td>37</td>\n",
              "      <td>1</td>\n",
              "      <td>0.0</td>\n",
              "    </tr>\n",
              "    <tr>\n",
              "      <th>756</th>\n",
              "      <td>7</td>\n",
              "      <td>137</td>\n",
              "      <td>90</td>\n",
              "      <td>41</td>\n",
              "      <td>0</td>\n",
              "      <td>32.0</td>\n",
              "      <td>0.391</td>\n",
              "      <td>39</td>\n",
              "      <td>0</td>\n",
              "      <td>0.0</td>\n",
              "    </tr>\n",
              "    <tr>\n",
              "      <th>757</th>\n",
              "      <td>0</td>\n",
              "      <td>123</td>\n",
              "      <td>72</td>\n",
              "      <td>0</td>\n",
              "      <td>0</td>\n",
              "      <td>36.3</td>\n",
              "      <td>0.258</td>\n",
              "      <td>52</td>\n",
              "      <td>1</td>\n",
              "      <td>0.0</td>\n",
              "    </tr>\n",
              "    <tr>\n",
              "      <th>758</th>\n",
              "      <td>1</td>\n",
              "      <td>106</td>\n",
              "      <td>76</td>\n",
              "      <td>0</td>\n",
              "      <td>0</td>\n",
              "      <td>37.5</td>\n",
              "      <td>0.197</td>\n",
              "      <td>26</td>\n",
              "      <td>0</td>\n",
              "      <td>0.0</td>\n",
              "    </tr>\n",
              "    <tr>\n",
              "      <th>759</th>\n",
              "      <td>6</td>\n",
              "      <td>190</td>\n",
              "      <td>92</td>\n",
              "      <td>0</td>\n",
              "      <td>0</td>\n",
              "      <td>35.5</td>\n",
              "      <td>0.278</td>\n",
              "      <td>66</td>\n",
              "      <td>1</td>\n",
              "      <td>0.0</td>\n",
              "    </tr>\n",
              "    <tr>\n",
              "      <th>760</th>\n",
              "      <td>2</td>\n",
              "      <td>88</td>\n",
              "      <td>58</td>\n",
              "      <td>26</td>\n",
              "      <td>16</td>\n",
              "      <td>28.4</td>\n",
              "      <td>0.766</td>\n",
              "      <td>22</td>\n",
              "      <td>0</td>\n",
              "      <td>0.0</td>\n",
              "    </tr>\n",
              "    <tr>\n",
              "      <th>761</th>\n",
              "      <td>9</td>\n",
              "      <td>170</td>\n",
              "      <td>74</td>\n",
              "      <td>31</td>\n",
              "      <td>0</td>\n",
              "      <td>44.0</td>\n",
              "      <td>0.403</td>\n",
              "      <td>43</td>\n",
              "      <td>1</td>\n",
              "      <td>0.0</td>\n",
              "    </tr>\n",
              "    <tr>\n",
              "      <th>762</th>\n",
              "      <td>9</td>\n",
              "      <td>89</td>\n",
              "      <td>62</td>\n",
              "      <td>0</td>\n",
              "      <td>0</td>\n",
              "      <td>22.5</td>\n",
              "      <td>0.142</td>\n",
              "      <td>33</td>\n",
              "      <td>0</td>\n",
              "      <td>0.0</td>\n",
              "    </tr>\n",
              "    <tr>\n",
              "      <th>763</th>\n",
              "      <td>10</td>\n",
              "      <td>101</td>\n",
              "      <td>76</td>\n",
              "      <td>48</td>\n",
              "      <td>180</td>\n",
              "      <td>32.9</td>\n",
              "      <td>0.171</td>\n",
              "      <td>63</td>\n",
              "      <td>0</td>\n",
              "      <td>0.0</td>\n",
              "    </tr>\n",
              "    <tr>\n",
              "      <th>764</th>\n",
              "      <td>2</td>\n",
              "      <td>122</td>\n",
              "      <td>70</td>\n",
              "      <td>27</td>\n",
              "      <td>0</td>\n",
              "      <td>36.8</td>\n",
              "      <td>0.340</td>\n",
              "      <td>27</td>\n",
              "      <td>0</td>\n",
              "      <td>0.0</td>\n",
              "    </tr>\n",
              "    <tr>\n",
              "      <th>765</th>\n",
              "      <td>5</td>\n",
              "      <td>121</td>\n",
              "      <td>72</td>\n",
              "      <td>23</td>\n",
              "      <td>112</td>\n",
              "      <td>26.2</td>\n",
              "      <td>0.245</td>\n",
              "      <td>30</td>\n",
              "      <td>0</td>\n",
              "      <td>0.0</td>\n",
              "    </tr>\n",
              "    <tr>\n",
              "      <th>766</th>\n",
              "      <td>1</td>\n",
              "      <td>126</td>\n",
              "      <td>60</td>\n",
              "      <td>0</td>\n",
              "      <td>0</td>\n",
              "      <td>30.1</td>\n",
              "      <td>0.349</td>\n",
              "      <td>47</td>\n",
              "      <td>1</td>\n",
              "      <td>0.0</td>\n",
              "    </tr>\n",
              "    <tr>\n",
              "      <th>767</th>\n",
              "      <td>1</td>\n",
              "      <td>93</td>\n",
              "      <td>70</td>\n",
              "      <td>31</td>\n",
              "      <td>0</td>\n",
              "      <td>30.4</td>\n",
              "      <td>0.315</td>\n",
              "      <td>23</td>\n",
              "      <td>0</td>\n",
              "      <td>0.0</td>\n",
              "    </tr>\n",
              "  </tbody>\n",
              "</table>\n",
              "<p>709 rows × 10 columns</p>\n",
              "</div>"
            ],
            "text/plain": [
              "     num_preg  glucose_conc  diastolic_bp  thickness  insulin   bmi  \\\n",
              "0           6           148            72         35        0  33.6   \n",
              "1           1            85            66         29        0  26.6   \n",
              "2           8           183            64          0        0  23.3   \n",
              "3           1            89            66         23       94  28.1   \n",
              "4           0           137            40         35      168  43.1   \n",
              "5           5           116            74          0        0  25.6   \n",
              "6           3            78            50         32       88  31.0   \n",
              "7          10           115             0          0        0  35.3   \n",
              "9           8           125            96          0        0   0.0   \n",
              "10          4           110            92          0        0  37.6   \n",
              "11         10           168            74          0        0  38.0   \n",
              "12         10           139            80          0        0  27.1   \n",
              "14          5           166            72         19      175  25.8   \n",
              "15          7           100             0          0        0  30.0   \n",
              "16          0           118            84         47      230  45.8   \n",
              "17          7           107            74          0        0  29.6   \n",
              "18          1           103            30         38       83  43.3   \n",
              "19          1           115            70         30       96  34.6   \n",
              "20          3           126            88         41      235  39.3   \n",
              "21          8            99            84          0        0  35.4   \n",
              "22          7           196            90          0        0  39.8   \n",
              "23          9           119            80         35        0  29.0   \n",
              "24         11           143            94         33      146  36.6   \n",
              "25         10           125            70         26      115  31.1   \n",
              "26          7           147            76          0        0  39.4   \n",
              "27          1            97            66         15      140  23.2   \n",
              "28         13           145            82         19      110  22.2   \n",
              "29          5           117            92          0        0  34.1   \n",
              "30          5           109            75         26        0  36.0   \n",
              "32          3            88            58         11       54  24.8   \n",
              "..        ...           ...           ...        ...      ...   ...   \n",
              "737         8            65            72         23        0  32.0   \n",
              "738         2            99            60         17      160  36.6   \n",
              "739         1           102            74          0        0  39.5   \n",
              "740        11           120            80         37      150  42.3   \n",
              "741         3           102            44         20       94  30.8   \n",
              "742         1           109            58         18      116  28.5   \n",
              "743         9           140            94          0        0  32.7   \n",
              "744        13           153            88         37      140  40.6   \n",
              "745        12           100            84         33      105  30.0   \n",
              "746         1           147            94         41        0  49.3   \n",
              "747         1            81            74         41       57  46.3   \n",
              "748         3           187            70         22      200  36.4   \n",
              "749         6           162            62          0        0  24.3   \n",
              "750         4           136            70          0        0  31.2   \n",
              "751         1           121            78         39       74  39.0   \n",
              "752         3           108            62         24        0  26.0   \n",
              "754         8           154            78         32        0  32.4   \n",
              "755         1           128            88         39      110  36.5   \n",
              "756         7           137            90         41        0  32.0   \n",
              "757         0           123            72          0        0  36.3   \n",
              "758         1           106            76          0        0  37.5   \n",
              "759         6           190            92          0        0  35.5   \n",
              "760         2            88            58         26       16  28.4   \n",
              "761         9           170            74         31        0  44.0   \n",
              "762         9            89            62          0        0  22.5   \n",
              "763        10           101            76         48      180  32.9   \n",
              "764         2           122            70         27        0  36.8   \n",
              "765         5           121            72         23      112  26.2   \n",
              "766         1           126            60          0        0  30.1   \n",
              "767         1            93            70         31        0  30.4   \n",
              "\n",
              "     diab_pred  age  diabetes  cluster_group  \n",
              "0        0.627   50         1            0.0  \n",
              "1        0.351   31         0            0.0  \n",
              "2        0.672   32         1            0.0  \n",
              "3        0.167   21         0            0.0  \n",
              "4        2.288   33         1            0.0  \n",
              "5        0.201   30         0            0.0  \n",
              "6        0.248   26         1            0.0  \n",
              "7        0.134   29         0            0.0  \n",
              "9        0.232   54         1            0.0  \n",
              "10       0.191   30         0            0.0  \n",
              "11       0.537   34         1            0.0  \n",
              "12       1.441   57         0            0.0  \n",
              "14       0.587   51         1            0.0  \n",
              "15       0.484   32         1            0.0  \n",
              "16       0.551   31         1            0.0  \n",
              "17       0.254   31         1            0.0  \n",
              "18       0.183   33         0            0.0  \n",
              "19       0.529   32         1            0.0  \n",
              "20       0.704   27         0            0.0  \n",
              "21       0.388   50         0            0.0  \n",
              "22       0.451   41         1            0.0  \n",
              "23       0.263   29         1            0.0  \n",
              "24       0.254   51         1            0.0  \n",
              "25       0.205   41         1            0.0  \n",
              "26       0.257   43         1            0.0  \n",
              "27       0.487   22         0            0.0  \n",
              "28       0.245   57         0            0.0  \n",
              "29       0.337   38         0            0.0  \n",
              "30       0.546   60         0            0.0  \n",
              "32       0.267   22         0            0.0  \n",
              "..         ...  ...       ...            ...  \n",
              "737      0.600   42         0            0.0  \n",
              "738      0.453   21         0            0.0  \n",
              "739      0.293   42         1            0.0  \n",
              "740      0.785   48         1            0.0  \n",
              "741      0.400   26         0            0.0  \n",
              "742      0.219   22         0            0.0  \n",
              "743      0.734   45         1            0.0  \n",
              "744      1.174   39         0            0.0  \n",
              "745      0.488   46         0            0.0  \n",
              "746      0.358   27         1            0.0  \n",
              "747      1.096   32         0            0.0  \n",
              "748      0.408   36         1            0.0  \n",
              "749      0.178   50         1            0.0  \n",
              "750      1.182   22         1            0.0  \n",
              "751      0.261   28         0            0.0  \n",
              "752      0.223   25         0            0.0  \n",
              "754      0.443   45         1            0.0  \n",
              "755      1.057   37         1            0.0  \n",
              "756      0.391   39         0            0.0  \n",
              "757      0.258   52         1            0.0  \n",
              "758      0.197   26         0            0.0  \n",
              "759      0.278   66         1            0.0  \n",
              "760      0.766   22         0            0.0  \n",
              "761      0.403   43         1            0.0  \n",
              "762      0.142   33         0            0.0  \n",
              "763      0.171   63         0            0.0  \n",
              "764      0.340   27         0            0.0  \n",
              "765      0.245   30         0            0.0  \n",
              "766      0.349   47         1            0.0  \n",
              "767      0.315   23         0            0.0  \n",
              "\n",
              "[709 rows x 10 columns]"
            ]
          },
          "metadata": {
            "tags": []
          },
          "execution_count": 165
        }
      ]
    }
  ]
}